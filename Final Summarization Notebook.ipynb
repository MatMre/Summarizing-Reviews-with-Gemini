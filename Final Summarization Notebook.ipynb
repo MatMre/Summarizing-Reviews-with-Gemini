{
 "cells": [
  {
   "cell_type": "markdown",
   "metadata": {
    "application/vnd.databricks.v1+cell": {
     "cellMetadata": {
      "byteLimit": 2048000,
      "rowLimit": 10000
     },
     "inputWidgets": {},
     "nuid": "b5dfb706-3a64-4be9-a4a6-6b1e00b0c705",
     "showTitle": false,
     "tableResultSettingsMap": {},
     "title": ""
    }
   },
   "source": [
    "# Intro\n",
    "##Summarizing Yelp Reviews with Google Gemini AI (Summarization Notebook)\n",
    "                                        By MATTA (Matteo Meier, Adrian Sanchez, Timothy Phan, Ty Hershberger, Aaron Tu)"
   ]
  },
  {
   "cell_type": "markdown",
   "metadata": {
    "application/vnd.databricks.v1+cell": {
     "cellMetadata": {
      "byteLimit": 2048000,
      "rowLimit": 10000
     },
     "inputWidgets": {},
     "nuid": "37a923cd-e846-4b7c-8064-94146290e5eb",
     "showTitle": false,
     "tableResultSettingsMap": {},
     "title": ""
    }
   },
   "source": [
    "## Project Goal"
   ]
  },
  {
   "cell_type": "markdown",
   "metadata": {
    "application/vnd.databricks.v1+cell": {
     "cellMetadata": {
      "byteLimit": 2048000,
      "rowLimit": 10000
     },
     "inputWidgets": {},
     "nuid": "87877ebe-e7a3-416d-8b8d-dd62e2849ab1",
     "showTitle": false,
     "tableResultSettingsMap": {},
     "title": ""
    }
   },
   "source": [
    "The aim of this project is to transform raw Yelp data from a multitude of files into an organized, streamlined table via data wrangling and thorough analysis, which can be summarized by AI to provide key insights to a user. In this notebook, we focus on building foundational datasets and tables through data wrangling and strategic merging to support meaningful summarization of large quantities of data. This involves manually structuring multiple tables, along with loading, cleaning, and organizing data from various sources, including restaurant categories, user reviews, and metro area information. We utilize the Google Gemini API to aid in summarization, tailoring its parameters to take into consideration the pros and cons listed by Yelp reviewers  to create summaries that are digestible and engaging the reader. By refining and structuring Yelp’s data, we generate authentic and truthful insights to streamline the process of sorting through reviews and get the user to the dining experience faster. Our project aims to make the process of sorting through restaurant recommendations efficient, informative, and impactful for users. \n",
    "\n",
    "This notebook will focus on the final two stages of our product, the summarization using an LLM and the identifications of our project limitations.\n"
   ]
  },
  {
   "cell_type": "markdown",
   "metadata": {
    "application/vnd.databricks.v1+cell": {
     "cellMetadata": {
      "byteLimit": 2048000,
      "rowLimit": 10000
     },
     "inputWidgets": {},
     "nuid": "fa333a09-9ed9-49c5-941b-1cea1f2ed3d8",
     "showTitle": false,
     "tableResultSettingsMap": {},
     "title": ""
    }
   },
   "source": [
    "## Initial Imports\n",
    "Before we start -- run these first. These are all of the modules we need associated with Gemini, Langchain, and Pydantic."
   ]
  },
  {
   "cell_type": "code",
   "execution_count": 0,
   "metadata": {
    "application/vnd.databricks.v1+cell": {
     "cellMetadata": {
      "byteLimit": 2048000,
      "rowLimit": 10000
     },
     "inputWidgets": {},
     "nuid": "8855211e-13b2-4d8f-8163-c482a8ed5c10",
     "showTitle": false,
     "tableResultSettingsMap": {},
     "title": ""
    }
   },
   "outputs": [
    {
     "output_type": "stream",
     "name": "stdout",
     "output_type": "stream",
     "text": [
      "Python interpreter will be restarted.\nPython interpreter will be restarted.\n"
     ]
    }
   ],
   "source": [
    "pip install -Uq google-generativeai"
   ]
  },
  {
   "cell_type": "code",
   "execution_count": 0,
   "metadata": {
    "application/vnd.databricks.v1+cell": {
     "cellMetadata": {
      "byteLimit": 2048000,
      "rowLimit": 10000
     },
     "inputWidgets": {},
     "nuid": "837d2d5d-173e-44e0-b70e-28d30a437147",
     "showTitle": false,
     "tableResultSettingsMap": {},
     "title": ""
    }
   },
   "outputs": [],
   "source": [
    "dbutils.library.restartPython()"
   ]
  },
  {
   "cell_type": "code",
   "execution_count": 0,
   "metadata": {
    "application/vnd.databricks.v1+cell": {
     "cellMetadata": {
      "byteLimit": 2048000,
      "rowLimit": 10000
     },
     "inputWidgets": {},
     "nuid": "d6c46378-d45d-424a-9101-3f76e2b62e09",
     "showTitle": false,
     "tableResultSettingsMap": {},
     "title": ""
    }
   },
   "outputs": [
    {
     "output_type": "stream",
     "name": "stdout",
     "output_type": "stream",
     "text": [
      "Python interpreter will be restarted.\nERROR: pip's dependency resolver does not currently take into account all the packages that are installed. This behaviour is the source of the following dependency conflicts.\nscipy 1.7.3 requires numpy<1.23.0,>=1.16.5, but you have numpy 1.26.4 which is incompatible.\nPython interpreter will be restarted.\n"
     ]
    }
   ],
   "source": [
    "pip install -q langchain"
   ]
  },
  {
   "cell_type": "code",
   "execution_count": 0,
   "metadata": {
    "application/vnd.databricks.v1+cell": {
     "cellMetadata": {
      "byteLimit": 2048000,
      "rowLimit": 10000
     },
     "inputWidgets": {},
     "nuid": "946729bc-2731-43e0-a945-88f9c46893fc",
     "showTitle": false,
     "tableResultSettingsMap": {},
     "title": ""
    }
   },
   "outputs": [
    {
     "output_type": "stream",
     "name": "stdout",
     "output_type": "stream",
     "text": [
      "Python interpreter will be restarted.\nPython interpreter will be restarted.\n"
     ]
    }
   ],
   "source": [
    "pip install -q langchain-google-genai"
   ]
  },
  {
   "cell_type": "code",
   "execution_count": 0,
   "metadata": {
    "application/vnd.databricks.v1+cell": {
     "cellMetadata": {
      "byteLimit": 2048000,
      "rowLimit": 10000
     },
     "inputWidgets": {},
     "nuid": "d52596b4-4fd3-49d8-a720-51dfae1dba60",
     "showTitle": false,
     "tableResultSettingsMap": {},
     "title": ""
    }
   },
   "outputs": [],
   "source": [
    "from pydantic import BaseModel, Field\n",
    "from typing import List\n",
    "from pydantic.dataclasses import *\n",
    "from langchain_core.output_parsers import JsonOutputParser\n",
    "from langchain_core.runnables import RunnableLambda\n",
    "from langchain_core.runnables.base import RunnableEach\n",
    "from langchain_core.prompts import PromptTemplate\n",
    "import json\n",
    "import pprint\n",
    "from IPython.display import display as python_display\n",
    "from IPython.display import Markdown"
   ]
  },
  {
   "cell_type": "code",
   "execution_count": 0,
   "metadata": {
    "application/vnd.databricks.v1+cell": {
     "cellMetadata": {
      "byteLimit": 2048000,
      "rowLimit": 10000
     },
     "inputWidgets": {},
     "nuid": "575db4bb-da77-490a-a7cf-b9ad37349889",
     "showTitle": false,
     "tableResultSettingsMap": {},
     "title": ""
    }
   },
   "outputs": [],
   "source": [
    "from IPython.display import display as python_display\n",
    "from IPython.display import Markdown"
   ]
  },
  {
   "cell_type": "code",
   "execution_count": 0,
   "metadata": {
    "application/vnd.databricks.v1+cell": {
     "cellMetadata": {
      "byteLimit": 2048000,
      "rowLimit": 10000
     },
     "inputWidgets": {},
     "nuid": "d7e582e3-97de-4c6b-8337-d14174533d9b",
     "showTitle": false,
     "tableResultSettingsMap": {},
     "title": ""
    }
   },
   "outputs": [],
   "source": [
    "from langchain_google_genai import ChatGoogleGenerativeAI\n",
    "import os"
   ]
  },
  {
   "cell_type": "markdown",
   "metadata": {
    "application/vnd.databricks.v1+cell": {
     "cellMetadata": {
      "byteLimit": 2048000,
      "rowLimit": 10000
     },
     "inputWidgets": {},
     "nuid": "65e661e3-9d87-49fd-95fc-0df7364eb356",
     "showTitle": false,
     "tableResultSettingsMap": {},
     "title": ""
    }
   },
   "source": [
    "# Summarization"
   ]
  },
  {
   "cell_type": "markdown",
   "metadata": {
    "application/vnd.databricks.v1+cell": {
     "cellMetadata": {
      "byteLimit": 2048000,
      "rowLimit": 10000
     },
     "inputWidgets": {},
     "nuid": "b55c2455-9119-47ed-9b69-55c53b4b301b",
     "showTitle": false,
     "tableResultSettingsMap": {},
     "title": ""
    }
   },
   "source": [
    "## Creating the Model"
   ]
  },
  {
   "cell_type": "markdown",
   "metadata": {
    "application/vnd.databricks.v1+cell": {
     "cellMetadata": {
      "byteLimit": 2048000,
      "rowLimit": 10000
     },
     "inputWidgets": {},
     "nuid": "92ba2424-2712-43ff-897d-61c7d08be972",
     "showTitle": false,
     "tableResultSettingsMap": {},
     "title": ""
    }
   },
   "source": [
    "Our LLM for this project will be Google Gemini. We will be aliasing this as `model` for simplicity's sake.\n"
   ]
  },
  {
   "cell_type": "code",
   "execution_count": 0,
   "metadata": {
    "application/vnd.databricks.v1+cell": {
     "cellMetadata": {
      "byteLimit": 2048000,
      "rowLimit": 10000
     },
     "inputWidgets": {},
     "nuid": "170b131b-9ef4-460c-8342-338805b53710",
     "showTitle": false,
     "tableResultSettingsMap": {},
     "title": ""
    }
   },
   "outputs": [],
   "source": [
    "\n",
    "model = ChatGoogleGenerativeAI(model=\"gemini-1.5-flash\")"
   ]
  },
  {
   "cell_type": "markdown",
   "metadata": {
    "application/vnd.databricks.v1+cell": {
     "cellMetadata": {
      "byteLimit": 2048000,
      "rowLimit": 10000
     },
     "inputWidgets": {},
     "nuid": "9084f63a-b0ab-4947-8896-4d11e6c76bf7",
     "showTitle": false,
     "tableResultSettingsMap": {},
     "title": ""
    }
   },
   "source": [
    "## Creating the Functions"
   ]
  },
  {
   "cell_type": "markdown",
   "metadata": {
    "application/vnd.databricks.v1+cell": {
     "cellMetadata": {
      "byteLimit": 2048000,
      "rowLimit": 10000
     },
     "inputWidgets": {},
     "nuid": "567cd1d7-69f8-4950-a1b8-37c969e4a503",
     "showTitle": false,
     "tableResultSettingsMap": {},
     "title": ""
    }
   },
   "source": []
  },
  {
   "cell_type": "markdown",
   "metadata": {
    "application/vnd.databricks.v1+cell": {
     "cellMetadata": {
      "byteLimit": 2048000,
      "rowLimit": 10000
     },
     "inputWidgets": {},
     "nuid": "d84627bf-97be-44b0-9067-8cf3834f6656",
     "showTitle": false,
     "tableResultSettingsMap": {},
     "title": ""
    }
   },
   "source": [
    "In order to create our chain, we will be needing a series of functions, and those functions will require setup and explanation as well. Below you will find the functions we used and their explanations."
   ]
  },
  {
   "cell_type": "code",
   "execution_count": 0,
   "metadata": {
    "application/vnd.databricks.v1+cell": {
     "cellMetadata": {
      "byteLimit": 2048000,
      "rowLimit": 10000
     },
     "inputWidgets": {},
     "nuid": "7af20652-e2dc-4326-8017-c28da466b77c",
     "showTitle": false,
     "tableResultSettingsMap": {},
     "title": ""
    }
   },
   "outputs": [],
   "source": [
    "#this function rebuilds our final table from the wrangling notebook from parquet files to be called at will\n",
    "def rebuild_tables(tablename):\n",
    "  if spark.catalog._jcatalog.tableExists(tablename):\n",
    "    print(f'{tablename} already loaded in memory')\n",
    "  else:\n",
    "    spark.sql(f\"\"\"\n",
    "      CREATE TABLE {tablename}\n",
    "      USING PARQUET \n",
    "      LOCATION '/user/hive/warehouse/{tablename}'\n",
    "      \"\"\")\n",
    "    print(f'{tablename} rebuilt from parquet files.')\n",
    "\n"
   ]
  },
  {
   "cell_type": "code",
   "execution_count": 0,
   "metadata": {
    "application/vnd.databricks.v1+cell": {
     "cellMetadata": {
      "byteLimit": 2048000,
      "rowLimit": 10000
     },
     "inputWidgets": {},
     "nuid": "3fc2a8e6-0155-4ef8-bf87-09ae19e9bf15",
     "showTitle": false,
     "tableResultSettingsMap": {},
     "title": ""
    }
   },
   "outputs": [
    {
     "output_type": "stream",
     "name": "stdout",
     "output_type": "stream",
     "text": [
      "restaurant_reviews_for_summarization_table rebuilt from parquet files.\n"
     ]
    }
   ],
   "source": [
    "rebuild_tables('restaurant_reviews_for_summarization_table')"
   ]
  },
  {
   "cell_type": "code",
   "execution_count": 0,
   "metadata": {
    "application/vnd.databricks.v1+cell": {
     "cellMetadata": {
      "byteLimit": 2048000,
      "rowLimit": 10000
     },
     "inputWidgets": {},
     "nuid": "11c08546-7ec9-40c8-9f47-7c8f4639f622",
     "showTitle": false,
     "tableResultSettingsMap": {},
     "title": ""
    }
   },
   "outputs": [
    {
     "output_type": "stream",
     "name": "stdout",
     "output_type": "stream",
     "text": [
      "+--------------------+-------------+-------+\n|            col_name|    data_type|comment|\n+--------------------+-------------+-------+\n|         business_id|       string|   null|\n|     restaurant_name|       string|   null|\n|          metro_area|       string|   null|\n|               stars|       double|   null|\n|          categories|array<string>|   null|\n|             user_id|       string|   null|\n|                text|       string|   null|\n|                date|       string|   null|\n|restaurant_review...|       bigint|   null|\n|        review_stars|       double|   null|\n|           user_name|       string|   null|\n|       average_stars|       double|   null|\n|   user_review_count|       bigint|   null|\n|    compliment_count|       bigint|   null|\n+--------------------+-------------+-------+\n\n"
     ]
    }
   ],
   "source": [
    "spark.sql('''\n",
    "DESCRIBE TABLE restaurant_reviews_for_summarization_table\n",
    "''').show()"
   ]
  },
  {
   "cell_type": "markdown",
   "metadata": {
    "application/vnd.databricks.v1+cell": {
     "cellMetadata": {
      "byteLimit": 2048000,
      "rowLimit": 10000
     },
     "inputWidgets": {},
     "nuid": "7c0e2af2-9549-4f9e-9eb6-9ecca00351cb",
     "showTitle": false,
     "tableResultSettingsMap": {},
     "title": ""
    }
   },
   "source": [
    "### Determining the Criteria for the Review-Sorting Function\n",
    "We will need a function for sorting our reviews into positive our negative sentiments so that our LLM can identify the themes of the reviews and generate a summary based on them. Below we cover the different criteria we used for creating the function that serves that need."
   ]
  },
  {
   "cell_type": "markdown",
   "metadata": {
    "application/vnd.databricks.v1+cell": {
     "cellMetadata": {
      "byteLimit": 2048000,
      "rowLimit": 10000
     },
     "inputWidgets": {},
     "nuid": "d6b135d7-53fa-42ee-9dee-4973ffb94de6",
     "showTitle": false,
     "tableResultSettingsMap": {},
     "title": ""
    }
   },
   "source": [
    "#### Positive or Negative"
   ]
  },
  {
   "cell_type": "markdown",
   "metadata": {
    "application/vnd.databricks.v1+cell": {
     "cellMetadata": {
      "byteLimit": 2048000,
      "rowLimit": 10000
     },
     "inputWidgets": {},
     "nuid": "8d492f8d-5d75-485f-876c-04a427e40a9f",
     "showTitle": false,
     "tableResultSettingsMap": {},
     "title": ""
    }
   },
   "source": [
    "In order to sort the reviews into either positive or negative for our summary, it is important to have a clear distinction of what qualifies as either sentiment. In the data wrangling notebook, we found that for all major metro areas, the distribution of reviews was top heavy, skewing heavily to 3, 4, and 5-star reviews, with very few 1 or 2-star reviews. This is likely due to the fact that unless a restaurant is outright horrible, most reviewers will be at least middling in their take. But middling is middling, not good, which is why our first criteria for whether a review is positive is whether it is greater than 3 stars. \n",
    "\n",
    "\n",
    "Within the world of Yelp, however, not all reviewers review equally. Many times a consumer will not find it worth reviewing a restaurant if the food is good, because good quality is to be expected, and bad quality is the exception. This means it is far more likely for a user to go out of their way to write a review if their experience was negative, to serve as a warning for others to avoid the establishment. This type of user typically has a low average star rating, and so if a user who primarily writes negative reviews has reviewed a place greater than their average, then it's fair to say that for them, it was impressive. However, it cannot only be 1 point greater than average. If a negative-skewing user has an average of 1 stars, than a 3 star review can be considered good to them, and so we will also allow 3 starred reviews so long as they are greater than 2 points above a user's average stars, although this will only help in few edge cases. We found that in some of the reviews meeting this criteria did have good things to say, and so they should be considered for positive reviews."
   ]
  },
  {
   "cell_type": "code",
   "execution_count": 0,
   "metadata": {
    "application/vnd.databricks.v1+cell": {
     "cellMetadata": {
      "byteLimit": 2048000,
      "rowLimit": 10000
     },
     "inputWidgets": {},
     "nuid": "a98f440a-5100-4504-95cb-ebc96edd27eb",
     "showTitle": false,
     "tableResultSettingsMap": {},
     "title": ""
    }
   },
   "outputs": [
    {
     "output_type": "stream",
     "name": "stdout",
     "output_type": "stream",
     "text": [
      "-RECORD 0-------------------------------------------------------------------------------------------------------------------------------------------------------------------------------------------------------------------------------------------------------------------------------------------------------------------------------------------------------------------------------------------------------------------------------------------------------------------------------------------------------------------------------------------------------------------------------------------------------------------------------------------------------------------------------------------------------------------------------------------------------------------------------------------------------------------------------------------------------------------------------------------------------------------------------------------------------------------------------------------------------------------------------------------------------------------------\n text                    | Nothing special but nice big tacos, not good al pastor pork but the kimchi pretty tasty                                                                                                                                                                                                                                                                                                                                                                                                                                                                                                                                                                                                                                                                                                                                                                                                                                                                                                                                                                \n restaurant_name         | Dos Tacos                                                                                                                                                                                                                                                                                                                                                                                                                                                                                                                                                                                                                                                                                                                                                                                                                                                                                                                                                                                                                                              \n review_stars            | 3.0                                                                                                                                                                                                                                                                                                                                                                                                                                                                                                                                                                                                                                                                                                                                                                                                                                                                                                                                                                                                                                                    \n restaurant_review_count | 258                                                                                                                                                                                                                                                                                                                                                                                                                                                                                                                                                                                                                                                                                                                                                                                                                                                                                                                                                                                                                                                    \n average_stars           | 1.87                                                                                                                                                                                                                                                                                                                                                                                                                                                                                                                                                                                                                                                                                                                                                                                                                                                                                                                                                                                                                                                   \n date                    | 2015-06-30 16:17:02                                                                                                                                                                                                                                                                                                                                                                                                                                                                                                                                                                                                                                                                                                                                                                                                                                                                                                                                                                                                                                    \n compliment_count        | 0                                                                                                                                                                                                                                                                                                                                                                                                                                                                                                                                                                                                                                                                                                                                                                                                                                                                                                                                                                                                                                                      \n-RECORD 1-------------------------------------------------------------------------------------------------------------------------------------------------------------------------------------------------------------------------------------------------------------------------------------------------------------------------------------------------------------------------------------------------------------------------------------------------------------------------------------------------------------------------------------------------------------------------------------------------------------------------------------------------------------------------------------------------------------------------------------------------------------------------------------------------------------------------------------------------------------------------------------------------------------------------------------------------------------------------------------------------------------------------------------------------------------------------\n text                    | This was the first ramen place I checked out since moving from L.A. I had heard it was on par with LA ramen but it was only ok. If you don't eat alot of Japanese food then this is good. But if you frequent Japanese cuisine it's definitely has nothing on LA ramen ot traditional ramen.                                                                                                                                                                                                                                                                                                                                                                                                                                                                                                                                                                                                                                                                                                                                                           \n restaurant_name         | Raijin Ramen                                                                                                                                                                                                                                                                                                                                                                                                                                                                                                                                                                                                                                                                                                                                                                                                                                                                                                                                                                                                                                           \n review_stars            | 3.0                                                                                                                                                                                                                                                                                                                                                                                                                                                                                                                                                                                                                                                                                                                                                                                                                                                                                                                                                                                                                                                    \n restaurant_review_count | 594                                                                                                                                                                                                                                                                                                                                                                                                                                                                                                                                                                                                                                                                                                                                                                                                                                                                                                                                                                                                                                                    \n average_stars           | 1.75                                                                                                                                                                                                                                                                                                                                                                                                                                                                                                                                                                                                                                                                                                                                                                                                                                                                                                                                                                                                                                                   \n date                    | 2018-05-14 06:24:28                                                                                                                                                                                                                                                                                                                                                                                                                                                                                                                                                                                                                                                                                                                                                                                                                                                                                                                                                                                                                                    \n compliment_count        | 0                                                                                                                                                                                                                                                                                                                                                                                                                                                                                                                                                                                                                                                                                                                                                                                                                                                                                                                                                                                                                                                      \n-RECORD 2-------------------------------------------------------------------------------------------------------------------------------------------------------------------------------------------------------------------------------------------------------------------------------------------------------------------------------------------------------------------------------------------------------------------------------------------------------------------------------------------------------------------------------------------------------------------------------------------------------------------------------------------------------------------------------------------------------------------------------------------------------------------------------------------------------------------------------------------------------------------------------------------------------------------------------------------------------------------------------------------------------------------------------------------------------------------------\n text                    | Has an issue with consistency and wait staff.\\nWe have been here 3 times ordering the same dish. From 1st to 3rd consistency went from great to a complete disappointment.  We joked we need to call ahead to see who is cooking before we go.\\nNot sure what is up with wait staff maybe they are under staffed. Long waits, no check in, and run by to give the bill.                                                                                                                                                                                                                                                                                                                                                                                                                                                                                                                                                                                                                                                                                \n restaurant_name         | Guadalajara Grill - Mexican, Best Mexican Restaurant in Tucson                                                                                                                                                                                                                                                                                                                                                                                                                                                                                                                                                                                                                                                                                                                                                                                                                                                                                                                                                                                         \n review_stars            | 3.0                                                                                                                                                                                                                                                                                                                                                                                                                                                                                                                                                                                                                                                                                                                                                                                                                                                                                                                                                                                                                                                    \n restaurant_review_count | 628                                                                                                                                                                                                                                                                                                                                                                                                                                                                                                                                                                                                                                                                                                                                                                                                                                                                                                                                                                                                                                                    \n average_stars           | 1.67                                                                                                                                                                                                                                                                                                                                                                                                                                                                                                                                                                                                                                                                                                                                                                                                                                                                                                                                                                                                                                                   \n date                    | 2021-05-08 23:09:40                                                                                                                                                                                                                                                                                                                                                                                                                                                                                                                                                                                                                                                                                                                                                                                                                                                                                                                                                                                                                                    \n compliment_count        | 0                                                                                                                                                                                                                                                                                                                                                                                                                                                                                                                                                                                                                                                                                                                                                                                                                                                                                                                                                                                                                       \n\n*** WARNING: max output size exceeded, skipping output. ***\n\n------------------------------------------------------------------------------------------------------------------------------------------------------------------------------------------------------------------------------------------------------------------------------------------------------------------------------------------------------------------------------------------------------------------------------------------------------------------------------------------------------------------------------------------------------------------------------------------------------------------------------------------------------------------------------------------------------------------------------------------------------------------------------------------------------------------------------------------------------------------------------------------------------------------------------------------------------------------------------------------------------------------------\n text                    | It was really good!!! My only issue is it taken almost two hours to receive my order and they forgot my drinks.                                                                                                                                                                                                                                                                                                                                                                                                                                                                                                                                                                                                                                                                                                                                                                                                                                                                                                                                        \n restaurant_name         | Luther ribs                                                                                                                                                                                                                                                                                                                                                                                                                                                                                                                                                                                                                                                                                                                                                                                                                                                                                                                                                                                                                                            \n review_stars            | 3.0                                                                                                                                                                                                                                                                                                                                                                                                                                                                                                                                                                                                                                                                                                                                                                                                                                                                                                                                                                                                                                                    \n restaurant_review_count | 84                                                                                                                                                                                                                                                                                                                                                                                                                                                                                                                                                                                                                                                                                                                                                                                                                                                                                                                                                                                                                                                     \n average_stars           | 1.86                                                                                                                                                                                                                                                                                                                                                                                                                                                                                                                                                                                                                                                                                                                                                                                                                                                                                                                                                                                                                                                   \n date                    | 2016-02-21 14:52:53                                                                                                                                                                                                                                                                                                                                                                                                                                                                                                                                                                                                                                                                                                                                                                                                                                                                                                                                                                                                                                    \n compliment_count        | 1                                                                                                                                                                                                                                                                                                                                                                                                                                                                                                                                                                                                                                                                                                                                                                                                                                                                                                                                                                                                                                                      \n-RECORD 18------------------------------------------------------------------------------------------------------------------------------------------------------------------------------------------------------------------------------------------------------------------------------------------------------------------------------------------------------------------------------------------------------------------------------------------------------------------------------------------------------------------------------------------------------------------------------------------------------------------------------------------------------------------------------------------------------------------------------------------------------------------------------------------------------------------------------------------------------------------------------------------------------------------------------------------------------------------------------------------------------------------------------------------------------------------------\n text                    | Not very impressive, the food is ok, not worth it for some of the entree prices, the appetizers and drinks were the best.                                                                                                                                                                                                                                                                                                                                                                                                                                                                                                                                                                                                                                                                                                                                                                                                                                                                                                                              \n restaurant_name         | Del Frisco's Grille                                                                                                                                                                                                                                                                                                                                                                                                                                                                                                                                                                                                                                                                                                                                                                                                                                                                                                                                                                                                                                    \n review_stars            | 3.0                                                                                                                                                                                                                                                                                                                                                                                                                                                                                                                                                                                                                                                                                                                                                                                                                                                                                                                                                                                                                                                    \n restaurant_review_count | 390                                                                                                                                                                                                                                                                                                                                                                                                                                                                                                                                                                                                                                                                                                                                                                                                                                                                                                                                                                                                                                                    \n average_stars           | 1.67                                                                                                                                                                                                                                                                                                                                                                                                                                                                                                                                                                                                                                                                                                                                                                                                                                                                                                                                                                                                                                                   \n date                    | 2015-06-02 01:45:23                                                                                                                                                                                                                                                                                                                                                                                                                                                                                                                                                                                                                                                                                                                                                                                                                                                                                                                                                                                                                                    \n compliment_count        | 0                                                                                                                                                                                                                                                                                                                                                                                                                                                                                                                                                                                                                                                                                                                                                                                                                                                                                                                                                                                                                                                      \n-RECORD 19------------------------------------------------------------------------------------------------------------------------------------------------------------------------------------------------------------------------------------------------------------------------------------------------------------------------------------------------------------------------------------------------------------------------------------------------------------------------------------------------------------------------------------------------------------------------------------------------------------------------------------------------------------------------------------------------------------------------------------------------------------------------------------------------------------------------------------------------------------------------------------------------------------------------------------------------------------------------------------------------------------------------------------------------------------------------\n text                    | Terrible. Just look at how much fries they skimped out on my order. I guess this is typical Philadelphia fast food when it comes to ordering fries. Same always goes for all the Wendy's. They only fill it up half way. Ridiculous                                                                                                                                                                                                                                                                                                                                                                                                                                                                                                                                                                                                                                                                                                                                                                                                                    \n restaurant_name         | Chick-fil-A                                                                                                                                                                                                                                                                                                                                                                                                                                                                                                                                                                                                                                                                                                                                                                                                                                                                                                                                                                                                                                            \n review_stars            | 3.0                                                                                                                                                                                                                                                                                                                                                                                                                                                                                                                                                                                                                                                                                                                                                                                                                                                                                                                                                                                                                                                    \n restaurant_review_count | 80                                                                                                                                                                                                                                                                                                                                                                                                                                                                                                                                                                                                                                                                                                                                                                                                                                                                                                                                                                                                                                                     \n average_stars           | 1.67                                                                                                                                                                                                                                                                                                                                                                                                                                                                                                                                                                                                                                                                                                                                                                                                                                                                                                                                                                                                                                                   \n date                    | 2021-08-23 18:45:12                                                                                                                                                                                                                                                                                                                                                                                                                                                                                                                                                                                                                                                                                                                                                                                                                                                                                                                                                                                                                                    \n compliment_count        | 0                                                                                                                                                                                                                                                                                                                                                                                                                                                                                                                                                                                                                                                                                                                                                                                                                                                                                                                                                                                                                                                      \nonly showing top 20 rows\n\n"
     ]
    }
   ],
   "source": [
    "spark.sql(f'''\n",
    "  SELECT text, restaurant_name, review_stars, restaurant_review_count, \n",
    "         average_stars, date, compliment_count\n",
    "  FROM restaurant_reviews_for_summarization_table\n",
    "  WHERE (review_stars > 3 OR review_stars >  (average_stars + 1))\n",
    "  GROUP BY review_stars, date, text, restaurant_name, \n",
    "           restaurant_review_count, average_stars, compliment_count\n",
    "  ORDER BY review_stars\n",
    "\n",
    "''').show(vertical=True, truncate=False)"
   ]
  },
  {
   "cell_type": "markdown",
   "metadata": {
    "application/vnd.databricks.v1+cell": {
     "cellMetadata": {
      "byteLimit": 2048000,
      "rowLimit": 10000
     },
     "inputWidgets": {},
     "nuid": "4d50f3eb-65a4-4033-8b59-85a315fa7763",
     "showTitle": false,
     "tableResultSettingsMap": {},
     "title": ""
    }
   },
   "source": [
    "#### Relevancy\n",
    "\n",
    "People change, and so do their opinions about restaurants. In the early 2000's, Dominos Pizza was thought of as low quality, but after a change in their recipe in 2010, the pizza chain saw a great uptick in positive sentiment regarding their product, and they kept pace with technological advancement with their famous pizza tracking technology. If we were to include reviews from both eras of Dominos, we would end up with a confusing summary that doesn't reflect the true sentiment of a restaurant. Therefore we decided to limit our data by date.\n",
    "\n",
    "Using the below queries we found that the most recent review for all of the data was very early on in 2022, and the oldest reviews go all the way back to 2005. Therefore, we decided that we should include 2022 along with the previous two years in order for our summarization to reflect the most recent states of the restaurants being summarized. The majority of the reviews were in the late 2010s, however, after the massive societal upheaval that was COVID, especially in the restaurant industry, we decided 2020 to be the most relevant early cutoff point for our summarization, even though it contained less reviews than the previous years. 2-3 years is more than enough time for sentiment to change in response to criticism, and we want our readers to have the clearest picture of a consensus based on the current opinions of the reviewers, in addition to the overall state of society."
   ]
  },
  {
   "cell_type": "code",
   "execution_count": 0,
   "metadata": {
    "application/vnd.databricks.v1+cell": {
     "cellMetadata": {
      "byteLimit": 2048000,
      "rowLimit": 10000
     },
     "inputWidgets": {},
     "nuid": "ad56f95b-0104-45e1-b78b-7033b4e96724",
     "showTitle": false,
     "tableResultSettingsMap": {},
     "title": ""
    }
   },
   "outputs": [
    {
     "output_type": "display_data",
     "data": {
      "text/html": [
       "<style scoped>\n",
       "  .table-result-container {\n",
       "    max-height: 300px;\n",
       "    overflow: auto;\n",
       "  }\n",
       "  table, th, td {\n",
       "    border: 1px solid black;\n",
       "    border-collapse: collapse;\n",
       "  }\n",
       "  th, td {\n",
       "    padding: 5px;\n",
       "  }\n",
       "  th {\n",
       "    text-align: left;\n",
       "  }\n",
       "</style><div class='table-result-container'><table class='table-result'><thead style='background-color: white'><tr><th>year</th><th>entry_count</th></tr></thead><tbody><tr><td>2010</td><td>59857</td></tr><tr><td>2011</td><td>98779</td></tr><tr><td>2012</td><td>123225</td></tr><tr><td>2013</td><td>167108</td></tr><tr><td>2014</td><td>240829</td></tr><tr><td>2015</td><td>335344</td></tr><tr><td>2016</td><td>380065</td></tr><tr><td>2017</td><td>427915</td></tr><tr><td>2018</td><td>497362</td></tr><tr><td>2019</td><td>520380</td></tr><tr><td>2020</td><td>328976</td></tr><tr><td>2021</td><td>391963</td></tr><tr><td>2022</td><td>20094</td></tr></tbody></table></div>"
      ]
     },
     "metadata": {
      "application/vnd.databricks.v1+output": {
       "addedWidgets": {},
       "aggData": [],
       "aggError": "",
       "aggOverflow": false,
       "aggSchema": [],
       "aggSeriesLimitReached": false,
       "aggType": "",
       "arguments": {},
       "columnCustomDisplayInfos": {},
       "data": [
        [
         2010,
         59857
        ],
        [
         2011,
         98779
        ],
        [
         2012,
         123225
        ],
        [
         2013,
         167108
        ],
        [
         2014,
         240829
        ],
        [
         2015,
         335344
        ],
        [
         2016,
         380065
        ],
        [
         2017,
         427915
        ],
        [
         2018,
         497362
        ],
        [
         2019,
         520380
        ],
        [
         2020,
         328976
        ],
        [
         2021,
         391963
        ],
        [
         2022,
         20094
        ]
       ],
       "datasetInfos": [],
       "dbfsResultPath": null,
       "isJsonSchema": true,
       "metadata": {},
       "overflow": false,
       "plotOptions": {
        "customPlotOptions": {},
        "displayType": "table",
        "pivotAggregation": null,
        "pivotColumns": null,
        "xColumns": null,
        "yColumns": null
       },
       "removedWidgets": [],
       "schema": [
        {
         "metadata": "{}",
         "name": "year",
         "type": "\"integer\""
        },
        {
         "metadata": "{}",
         "name": "entry_count",
         "type": "\"long\""
        }
       ],
       "type": "table"
      }
     },
     "output_type": "display_data"
    },
    {
     "output_type": "display_data",
     "data": {
      "text/plain": [
       "Databricks visualization. Run in Databricks to view."
      ]
     },
     "metadata": {
      "application/vnd.databricks.v1.subcommand+json": {
       "baseErrorDetails": null,
       "bindings": {},
       "collapsed": false,
       "command": "%python\n__backend_agg_display_orig = display\n__backend_agg_dfs = []\ndef __backend_agg_display_new(df):\n    __backend_agg_df_modules = [\"pandas.core.frame\", \"databricks.koalas.frame\", \"pyspark.sql.dataframe\", \"pyspark.pandas.frame\", \"pyspark.sql.connect.dataframe\"]\n    if (type(df).__module__ in __backend_agg_df_modules and type(df).__name__ == 'DataFrame') or isinstance(df, list):\n        __backend_agg_dfs.append(df)\n\ndisplay = __backend_agg_display_new\n\ndef __backend_agg_user_code_fn():\n    import base64\n    exec(base64.standard_b64decode(\"eWVhcl9kaXN0cmlidXRpb24gPSBzcGFyay5zcWwoZicnJwogIFNFTEVDVCBZRUFSKGRhdGUpIEFTIHllYXIsIENPVU5UKCopIEFTIGVudHJ5X2NvdW50CiAgRlJPTSByZXN0YXVyYW50X3Jldmlld3NfZm9yX3N1bW1hcml6YXRpb25fdGFibGUKICBXSEVSRSBZRUFSKGRhdGUpIEJFVFdFRU4gMjAxMCBBTkQgMjAyMgogIEdST1VQIEJZIFlFQVIoZGF0ZSkKICBPUkRFUiBCWSB5ZWFyCicnJykKCmRpc3BsYXkoeWVhcl9kaXN0cmlidXRpb24pCg==\").decode())\n\ntry:\n    # run user code\n    __backend_agg_user_code_fn()\n\n    #reset display function\n    display = __backend_agg_display_orig\n\n    if len(__backend_agg_dfs) > 0:\n        # create a temp view\n        if type(__backend_agg_dfs[0]).__module__ == \"databricks.koalas.frame\":\n            # koalas dataframe\n            __backend_agg_dfs[0].to_spark().createOrReplaceTempView(\"DatabricksView12b47a5\")\n        elif type(__backend_agg_dfs[0]).__module__ == \"pandas.core.frame\" or isinstance(__backend_agg_dfs[0], list):\n            # pandas dataframe\n            spark.createDataFrame(__backend_agg_dfs[0]).createOrReplaceTempView(\"DatabricksView12b47a5\")\n        else:\n            __backend_agg_dfs[0].createOrReplaceTempView(\"DatabricksView12b47a5\")\n        #run backend agg\n        display(spark.sql(\"\"\"WITH q AS (select * from DatabricksView12b47a5) SELECT `year`,SUM(`entry_count`) `column_3a97e2f211` FROM q GROUP BY `year`\"\"\"))\n    else:\n        displayHTML(\"dataframe no longer exists. If you're using dataframe.display(), use display(dataframe) instead.\")\n\n\nfinally:\n    spark.sql(\"drop view if exists DatabricksView12b47a5\")\n    display = __backend_agg_display_orig\n    del __backend_agg_display_new\n    del __backend_agg_display_orig\n    del __backend_agg_dfs\n    del __backend_agg_user_code_fn\n\n",
       "commandTitle": "Distribution of the Reviews by Year",
       "commandType": "auto",
       "commandVersion": 0,
       "commentThread": [],
       "commentsVisible": false,
       "contentSha256Hex": null,
       "customPlotOptions": {
        "redashChart": [
         {
          "key": "type",
          "value": "CHART"
         },
         {
          "key": "options",
          "value": {
           "alignYAxesAtZero": true,
           "coefficient": 1,
           "columnConfigurationMap": {
            "x": {
             "column": "year",
             "id": "column_3a97e2f210"
            },
            "y": [
             {
              "column": "entry_count",
              "id": "column_3a97e2f211",
              "transform": "SUM"
             }
            ]
           },
           "dateTimeFormat": "DD/MM/YYYY HH:mm",
           "direction": {
            "type": "counterclockwise"
           },
           "error_y": {
            "type": "data",
            "visible": true
           },
           "globalSeriesType": "column",
           "isAggregationOn": true,
           "legend": {
            "traceorder": "normal"
           },
           "missingValuesAsZero": true,
           "numberFormat": "0,0.[00000]",
           "percentFormat": "0[.]00%",
           "series": {
            "error_y": {
             "type": "data",
             "visible": true
            },
            "stacking": null
           },
           "seriesOptions": {
            "column_3a97e2f211": {
             "name": "entry_count",
             "type": "column",
             "yAxis": 0
            }
           },
           "showDataLabels": false,
           "sizemode": "diameter",
           "sortX": true,
           "sortY": true,
           "swappedAxes": false,
           "textFormat": "",
           "useAggregationsUi": true,
           "valuesOptions": {},
           "version": 2,
           "xAxis": {
            "labels": {
             "enabled": true
            },
            "title": {
             "text": "Year"
            },
            "type": "-"
           },
           "yAxis": [
            {
             "title": {
              "text": "Reviews in the Year"
             },
             "type": "-"
            },
            {
             "opposite": true,
             "type": "-"
            }
           ]
          }
         }
        ]
       },
       "datasetPreviewNameToCmdIdMap": {},
       "diffDeletes": [],
       "diffInserts": [],
       "displayType": "redashChart",
       "error": null,
       "errorDetails": null,
       "errorSummary": null,
       "errorTraceType": null,
       "finishTime": 0,
       "globalVars": {},
       "guid": "",
       "height": "auto",
       "hideCommandCode": false,
       "hideCommandResult": false,
       "iPythonMetadata": null,
       "inputWidgets": {},
       "isLockedInExamMode": false,
       "latestUser": "a user",
       "latestUserId": null,
       "listResultMetadata": null,
       "metadata": {
        "byteLimit": 2048000,
        "rowLimit": 10000
       },
       "nuid": "7c7be4e1-af00-4f53-9de6-bed28e745444",
       "origId": 0,
       "parentHierarchy": [],
       "pivotAggregation": null,
       "pivotColumns": null,
       "position": 7.90869140625,
       "resultDbfsErrorMessage": null,
       "resultDbfsStatus": "INLINED_IN_TREE",
       "results": null,
       "showCommandTitle": false,
       "startTime": 0,
       "state": "finished",
       "streamStates": {},
       "subcommandOptions": {
        "queryPlan": {
         "groups": [
          {
           "column": "year",
           "type": "column"
          }
         ],
         "selects": [
          {
           "column": "year",
           "type": "column"
          },
          {
           "alias": "column_3a97e2f211",
           "args": [
            {
             "column": "entry_count",
             "type": "column"
            }
           ],
           "function": "SUM",
           "type": "function"
          }
         ]
        }
       },
       "submitTime": 0,
       "subtype": "tableResultSubCmd.visualization",
       "tableResultIndex": 0,
       "tableResultSettingsMap": {},
       "useConsistentColors": false,
       "version": "CommandV1",
       "width": "auto",
       "workflows": [],
       "xColumns": null,
       "yColumns": null
      }
     },
     "output_type": "display_data"
    }
   ],
   "source": [
    "year_distribution = spark.sql(f'''\n",
    "  SELECT YEAR(date) AS year, COUNT(*) AS entry_count\n",
    "  FROM restaurant_reviews_for_summarization_table\n",
    "  WHERE YEAR(date) BETWEEN 2010 AND 2022\n",
    "  GROUP BY YEAR(date)\n",
    "  ORDER BY year\n",
    "''')\n",
    "\n",
    "display(year_distribution)\n"
   ]
  },
  {
   "cell_type": "code",
   "execution_count": 0,
   "metadata": {
    "application/vnd.databricks.v1+cell": {
     "cellMetadata": {
      "byteLimit": 2048000,
      "rowLimit": 10000
     },
     "inputWidgets": {},
     "nuid": "8f4ecd16-d32b-43d9-ac0d-508bb8ca1178",
     "showTitle": false,
     "tableResultSettingsMap": {},
     "title": ""
    }
   },
   "outputs": [
    {
     "output_type": "stream",
     "name": "stdout",
     "output_type": "stream",
     "text": [
      "-RECORD 0-------------------\n date | 2005-02-16 04:06:26 \n-RECORD 1-------------------\n date | 2005-03-01 16:57:17 \n-RECORD 2-------------------\n date | 2005-03-01 16:59:37 \n-RECORD 3-------------------\n date | 2005-03-01 17:25:13 \n-RECORD 4-------------------\n date | 2005-03-01 17:59:26 \n-RECORD 5-------------------\n date | 2005-03-01 19:33:35 \n-RECORD 6-------------------\n date | 2005-03-02 22:13:59 \n-RECORD 7-------------------\n date | 2005-03-04 02:06:36 \n-RECORD 8-------------------\n date | 2005-03-04 02:40:25 \n-RECORD 9-------------------\n date | 2005-03-09 06:37:47 \n-RECORD 10------------------\n date | 2005-03-09 07:11:28 \n-RECORD 11------------------\n date | 2005-03-09 07:14:58 \n-RECORD 12------------------\n date | 2005-03-09 07:18:21 \n-RECORD 13------------------\n date | 2005-03-09 07:20:08 \n-RECORD 14------------------\n date | 2005-03-09 07:23:26 \n-RECORD 15------------------\n date | 2005-03-10 05:39:45 \n-RECORD 16------------------\n date | 2005-03-10 05:53:34 \n-RECORD 17------------------\n date | 2005-03-10 06:07:52 \n-RECORD 18------------------\n date | 2005-03-12 03:47:06 \n-RECORD 19------------------\n date | 2005-03-12 18:14:48 \nonly showing top 20 rows\n\n"
     ]
    }
   ],
   "source": [
    "#This query shows the earliest reviews.\n",
    "spark.sql(f'''\n",
    "  SELECT date\n",
    "  FROM restaurant_reviews_for_summarization_table\n",
    "  GROUP BY YEAR(date), date\n",
    "  ORDER BY date\n",
    "''').show(vertical=True)"
   ]
  },
  {
   "cell_type": "code",
   "execution_count": 0,
   "metadata": {
    "application/vnd.databricks.v1+cell": {
     "cellMetadata": {
      "byteLimit": 2048000,
      "rowLimit": 10000
     },
     "inputWidgets": {},
     "nuid": "9140cb9b-f0b1-42c1-ade8-e319314759f7",
     "showTitle": false,
     "tableResultSettingsMap": {},
     "title": ""
    }
   },
   "outputs": [
    {
     "output_type": "stream",
     "name": "stdout",
     "output_type": "stream",
     "text": [
      "-RECORD 0-------------------\n date | 2022-01-19 19:48:25 \n-RECORD 1-------------------\n date | 2022-01-19 19:48:13 \n-RECORD 2-------------------\n date | 2022-01-19 19:47:59 \n-RECORD 3-------------------\n date | 2022-01-19 19:46:34 \n-RECORD 4-------------------\n date | 2022-01-19 19:45:56 \n-RECORD 5-------------------\n date | 2022-01-19 19:45:43 \n-RECORD 6-------------------\n date | 2022-01-19 19:44:03 \n-RECORD 7-------------------\n date | 2022-01-19 19:42:22 \n-RECORD 8-------------------\n date | 2022-01-19 19:39:46 \n-RECORD 9-------------------\n date | 2022-01-19 19:35:57 \n-RECORD 10------------------\n date | 2022-01-19 19:31:50 \n-RECORD 11------------------\n date | 2022-01-19 19:30:14 \n-RECORD 12------------------\n date | 2022-01-19 19:29:56 \n-RECORD 13------------------\n date | 2022-01-19 19:29:13 \n-RECORD 14------------------\n date | 2022-01-19 19:28:27 \n-RECORD 15------------------\n date | 2022-01-19 19:28:07 \n-RECORD 16------------------\n date | 2022-01-19 19:27:53 \n-RECORD 17------------------\n date | 2022-01-19 19:26:37 \n-RECORD 18------------------\n date | 2022-01-19 19:25:48 \n-RECORD 19------------------\n date | 2022-01-19 19:22:59 \nonly showing top 20 rows\n\n"
     ]
    }
   ],
   "source": [
    "#This query shows the latest reviews.\n",
    "spark.sql(f'''\n",
    "  SELECT date\n",
    "  FROM restaurant_reviews_for_summarization_table\n",
    "  GROUP BY YEAR(date), date\n",
    "  ORDER BY date DESC\n",
    "''').show(vertical=True)"
   ]
  },
  {
   "cell_type": "markdown",
   "metadata": {
    "application/vnd.databricks.v1+cell": {
     "cellMetadata": {
      "byteLimit": 2048000,
      "rowLimit": 10000
     },
     "inputWidgets": {},
     "nuid": "2473253e-bf41-40ef-8348-a652e452d9ff",
     "showTitle": false,
     "tableResultSettingsMap": {},
     "title": ""
    }
   },
   "source": [
    "#### Credibility\n",
    "\n",
    "In order to make sure the LLM is using the best material for it's summarization, we decided to create our own measure of credibility. Our decision was to make an aggregate field based off of the total number of compliments a Yelp user has received on their profile. A Yelp user can receive compliments for a variety of reasons, such as being cool, funny, a good writer, or including a lot of photos on their reviews. Regardless, a compliment is a compliment, and we have tallied the compliments a user received as a compliment count, and we will be using that as our measure for credibility, at least in positive reviews, by ordering the reviews in a way to where the most complimented reviewers are at the top of the list, and then later instructing the LLM to weigh the lists opinions with the top having more sway.\n",
    "\n",
    "However, in the case of the above mentioned negative users, there are a few cases where this measure might be counterintuitive. A user might decide to leave a single negative review, signifying a uniquely bad experience, and never use Yelp again. If an experience was so bad it inspired this type of review, it should not be suppressed. Therefore, we will not be using the weighing system with the compliment count on our negative review collection."
   ]
  },
  {
   "cell_type": "code",
   "execution_count": 0,
   "metadata": {
    "application/vnd.databricks.v1+cell": {
     "cellMetadata": {
      "byteLimit": 2048000,
      "rowLimit": 10000
     },
     "inputWidgets": {},
     "nuid": "62cb54a3-85b7-4534-91ab-6909ce53fbf0",
     "showTitle": false,
     "tableResultSettingsMap": {},
     "title": ""
    }
   },
   "outputs": [
    {
     "output_type": "stream",
     "name": "stdout",
     "output_type": "stream",
     "text": [
      "-RECORD 0---------------------------------------\n text                    | Its been a long t... \n restaurant_name         | Nu Yalk Pizza        \n review_stars            | 4.0                  \n restaurant_review_count | 448                  \n average_stars           | 3.55                 \n date                    | 2021-06-11 17:39:07  \n compliment_count        | 58                   \n-RECORD 1---------------------------------------\n text                    | Whoa! So we've be... \n restaurant_name         | Nu Yalk Pizza        \n review_stars            | 5.0                  \n restaurant_review_count | 448                  \n average_stars           | 3.78                 \n date                    | 2021-01-23 16:19:06  \n compliment_count        | 43                   \n-RECORD 2---------------------------------------\n text                    | Ordered a large p... \n restaurant_name         | Nu Yalk Pizza        \n review_stars            | 5.0                  \n restaurant_review_count | 448                  \n average_stars           | 4.06                 \n date                    | 2021-01-04 01:55:23  \n compliment_count        | 14                   \n-RECORD 3---------------------------------------\n text                    | This place is rea... \n restaurant_name         | Nu Yalk Pizza        \n review_stars            | 5.0                  \n restaurant_review_count | 448                  \n average_stars           | 4.06                 \n date                    | 2021-03-04 03:30:03  \n compliment_count        | 14                   \n-RECORD 4---------------------------------------\n text                    | The size of this ... \n restaurant_name         | Nu Yalk Pizza        \n review_stars            | 4.0                  \n restaurant_review_count | 448                  \n average_stars           | 3.5                  \n date                    | 2021-11-05 03:34:33  \n compliment_count        | 6                    \n-RECORD 5---------------------------------------\n text                    | Food is really go... \n restaurant_name         | Nu Yalk Pizza        \n review_stars            | 5.0                  \n restaurant_review_count | 448                  \n average_stars           | 2.94                 \n date                    | 2021-11-07 17:41:15  \n compliment_count        | 4                    \n-RECORD 6---------------------------------------\n text                    | Great pizza place... \n restaurant_name         | Nu Yalk Pizza        \n review_stars            | 5.0                  \n restaurant_review_count | 448                  \n average_stars           | 4.42                 \n date                    | 2021-01-17 20:56:04  \n compliment_count        | 2                    \n-RECORD 7---------------------------------------\n text                    | The food here is ... \n restaurant_name         | Nu Yalk Pizza        \n review_stars            | 5.0                  \n restaurant_review_count | 448                  \n average_stars           | 4.0                  \n date                    | 2021-07-21 18:48:02  \n compliment_count        | 2                    \n-RECORD 8---------------------------------------\n text                    | Love this pizza!!... \n restaurant_name         | Nu Yalk Pizza        \n review_stars            | 5.0                  \n restaurant_review_count | 448                  \n average_stars           | 1.84                 \n date                    | 2021-02-09 13:52:55  \n compliment_count        | 1                    \n-RECORD 9---------------------------------------\n text                    | Their lunch speci... \n restaurant_name         | Nu Yalk Pizza        \n review_stars            | 5.0                  \n restaurant_review_count | 448                  \n average_stars           | 3.11                 \n date                    | 2021-04-12 22:14:07  \n compliment_count        | 0                    \n-RECORD 10--------------------------------------\n text                    | The pizza was goo... \n restaurant_name         | Nu Yalk Pizza        \n review_stars            | 3.0                  \n restaurant_review_count | 448                  \n average_stars           | 2.34                 \n date                    | 2021-05-02 23:24:27  \n compliment_count        | 0                    \n-RECORD 11--------------------------------------\n text                    | The second worst ... \n restaurant_name         | Nu Yalk Pizza        \n review_stars            | 2.0                  \n restaurant_review_count | 448                  \n average_stars           | 1.4                  \n date                    | 2021-04-14 01:17:46  \n compliment_count        | 0                    \n-RECORD 12--------------------------------------\n text                    | Extremely unprofe... \n restaurant_name         | Nu Yalk Pizza        \n review_stars            | 1.0                  \n restaurant_review_count | 448                  \n average_stars           | 1.0                  \n date                    | 2021-02-08 05:17:07  \n compliment_count        | 0                    \n-RECORD 13--------------------------------------\n text                    | This Pizza was gr... \n restaurant_name         | Nu Yalk Pizza        \n review_stars            | 5.0                  \n restaurant_review_count | 448                  \n average_stars           | 3.88                 \n date                    | 2021-02-24 19:23:18  \n compliment_count        | 0                    \n-RECORD 14--------------------------------------\n text                    | I'm a Florida nat... \n restaurant_name         | Nu Yalk Pizza        \n review_stars            | 5.0                  \n restaurant_review_count | 448                  \n average_stars           | 4.41                 \n date                    | 2020-01-02 20:33:38  \n compliment_count        | 144                  \n-RECORD 15--------------------------------------\n text                    | Pro's: Generous s... \n restaurant_name         | Nu Yalk Pizza        \n review_stars            | 5.0                  \n restaurant_review_count | 448                  \n average_stars           | 3.94                 \n date                    | 2020-04-28 21:55:32  \n compliment_count        | 78                   \n-RECORD 16--------------------------------------\n text                    | So on a couple fo... \n restaurant_name         | Nu Yalk Pizza        \n review_stars            | 4.0                  \n restaurant_review_count | 448                  \n average_stars           | 3.53                 \n date                    | 2020-06-19 05:55:22  \n compliment_count        | 58                   \n-RECORD 17--------------------------------------\n text                    | Pizza by the slic... \n restaurant_name         | Nu Yalk Pizza        \n review_stars            | 5.0                  \n restaurant_review_count | 448                  \n average_stars           | 4.44                 \n date                    | 2020-10-23 22:08:18  \n compliment_count        | 47                   \n-RECORD 18--------------------------------------\n text                    | This has quickly ... \n restaurant_name         | Nu Yalk Pizza        \n review_stars            | 4.0                  \n restaurant_review_count | 448                  \n average_stars           | 4.54                 \n date                    | 2020-03-10 23:38:30  \n compliment_count        | 34                   \n-RECORD 19--------------------------------------\n text                    | Love love LOVE! O... \n restaurant_name         | Nu Yalk Pizza        \n review_stars            | 5.0                  \n restaurant_review_count | 448                  \n average_stars           | 3.67                 \n date                    | 2020-11-19 14:56:36  \n compliment_count        | 27                   \nonly showing top 20 rows\n\n"
     ]
    }
   ],
   "source": [
    "spark.sql(f'''\n",
    "  SELECT text, restaurant_name, review_stars, restaurant_review_count, \n",
    "         average_stars, date, compliment_count\n",
    "  FROM restaurant_reviews_for_summarization_table\n",
    "  WHERE business_id = 'YNgX5_SYHCXSoL9IMdVboA'\n",
    "    AND (review_stars > 3 OR (review_stars >= average_stars)) \n",
    "    AND (YEAR(date) == 2021 OR YEAR(date) == 2020 OR YEAR(date) == 2022)\n",
    "  GROUP BY YEAR(date), date, text, restaurant_name, review_stars, \n",
    "           restaurant_review_count, average_stars, compliment_count\n",
    "  ORDER BY YEAR(date) DESC, compliment_count DESC\n",
    "''').show(vertical=True)"
   ]
  },
  {
   "cell_type": "code",
   "execution_count": 0,
   "metadata": {
    "application/vnd.databricks.v1+cell": {
     "cellMetadata": {
      "byteLimit": 2048000,
      "rowLimit": 10000
     },
     "inputWidgets": {},
     "nuid": "f60f0de2-6c26-4c58-894b-229904680e4c",
     "showTitle": false,
     "tableResultSettingsMap": {},
     "title": ""
    }
   },
   "outputs": [
    {
     "output_type": "stream",
     "name": "stdout",
     "output_type": "stream",
     "text": [
      "-RECORD 0---------------------------------------\n text                    | After eating at B... \n restaurant_name         | Mr. B's Bistro       \n review_stars            | 5.0                  \n restaurant_review_count | 2064                 \n average_stars           | 4.42                 \n date                    | 2020-01-19 01:30:05  \n compliment_count        | 13                   \n-RECORD 1---------------------------------------\n text                    | Real treasure! To... \n restaurant_name         | Moxie's Spirits &... \n review_stars            | 5.0                  \n restaurant_review_count | 72                   \n average_stars           | 3.86                 \n date                    | 2021-08-14 01:28:12  \n compliment_count        | 0                    \n-RECORD 2---------------------------------------\n text                    | Great pizza,lots ... \n restaurant_name         | Peavine Taphouse ... \n review_stars            | 5.0                  \n restaurant_review_count | 104                  \n average_stars           | 3.86                 \n date                    | 2020-02-02 04:31:12  \n compliment_count        | 0                    \n-RECORD 3---------------------------------------\n text                    | Great food! It's ... \n restaurant_name         | Sasquatch Tavern ... \n review_stars            | 5.0                  \n restaurant_review_count | 308                  \n average_stars           | 3.86                 \n date                    | 2021-11-26 02:20:16  \n compliment_count        | 0                    \n-RECORD 4---------------------------------------\n text                    | Very good! Servic... \n restaurant_name         | Zayna Mediterranean  \n review_stars            | 5.0                  \n restaurant_review_count | 602                  \n average_stars           | 3.5                  \n date                    | 2019-03-31 00:41:53  \n compliment_count        | 0                    \n-RECORD 5---------------------------------------\n text                    | This place is awe... \n restaurant_name         | The Rusty Nail Bar   \n review_stars            | 5.0                  \n restaurant_review_count | 29                   \n average_stars           | 4.63                 \n date                    | 2018-02-02 02:16:29  \n compliment_count        | 5                    \n-RECORD 6---------------------------------------\n text                    | Coming from CA th... \n restaurant_name         | Taqueria Vargas #1   \n review_stars            | 5.0                  \n restaurant_review_count | 36                   \n average_stars           | 4.63                 \n date                    | 2020-01-11 23:22:08  \n compliment_count        | 5                    \n-RECORD 7---------------------------------------\n text                    | I've searched all... \n restaurant_name         | Salvo's Pizza        \n review_stars            | 5.0                  \n restaurant_review_count | 147                  \n average_stars           | 4.63                 \n date                    | 2019-03-25 00:35:28  \n compliment_count        | 5                    \n-RECORD 8---------------------------------------\n text                    | The best place to... \n restaurant_name         | Clementine's Stea... \n review_stars            | 5.0                  \n restaurant_review_count | 280                  \n average_stars           | 4.84                 \n date                    | 2016-08-11 13:49:06  \n compliment_count        | 0                    \n-RECORD 9---------------------------------------\n text                    | I love this place... \n restaurant_name         | Le Cafe Stella       \n review_stars            | 5.0                  \n restaurant_review_count | 263                  \n average_stars           | 4.84                 \n date                    | 2016-08-11 13:51:59  \n compliment_count        | 0                    \n-RECORD 10--------------------------------------\n text                    | Absolutely amazin... \n restaurant_name         | Texas de Brazil      \n review_stars            | 5.0                  \n restaurant_review_count | 640                  \n average_stars           | 4.0                  \n date                    | 2011-08-20 20:25:38  \n compliment_count        | 0                    \n-RECORD 11--------------------------------------\n text                    | This is an excell... \n restaurant_name         | Cane and Table       \n review_stars            | 4.0                  \n restaurant_review_count | 519                  \n average_stars           | 3.63                 \n date                    | 2019-09-07 15:17:03  \n compliment_count        | 0                    \n-RECORD 12--------------------------------------\n text                    | I love this resta... \n restaurant_name         | Sweet Soulfood       \n review_stars            | 5.0                  \n restaurant_review_count | 385                  \n average_stars           | 3.63                 \n date                    | 2019-10-31 18:31:19  \n compliment_count        | 0                    \n-RECORD 13--------------------------------------\n text                    | This restaurant c... \n restaurant_name         | Coterie Restauran... \n review_stars            | 4.0                  \n restaurant_review_count | 718                  \n average_stars           | 3.63                 \n date                    | 2019-09-07 15:24:07  \n compliment_count        | 0                    \n-RECORD 14--------------------------------------\n text                    | Love the food!  S... \n restaurant_name         | Asian House          \n review_stars            | 5.0                  \n restaurant_review_count | 53                   \n average_stars           | 3.5                  \n date                    | 2018-07-04 01:20:53  \n compliment_count        | 2                    \n-RECORD 15--------------------------------------\n text                    | Great place for a... \n restaurant_name         | Rosario's Pizza      \n review_stars            | 5.0                  \n restaurant_review_count | 29                   \n average_stars           | 3.5                  \n date                    | 2015-07-12 20:57:50  \n compliment_count        | 2                    \n-RECORD 16--------------------------------------\n text                    | BIG SHOUT OUT to ... \n restaurant_name         | Under the Moon Cafe  \n review_stars            | 5.0                  \n restaurant_review_count | 235                  \n average_stars           | 3.5                  \n date                    | 2021-08-01 14:16:16  \n compliment_count        | 2                    \n-RECORD 17--------------------------------------\n text                    | Prime Rib was out... \n restaurant_name         | Firebirds Wood Fi... \n review_stars            | 5.0                  \n restaurant_review_count | 417                  \n average_stars           | 3.76                 \n date                    | 2016-09-27 00:44:29  \n compliment_count        | 6                    \n-RECORD 18--------------------------------------\n text                    | First time here a... \n restaurant_name         | 5 Star Burgers       \n review_stars            | 4.0                  \n restaurant_review_count | 416                  \n average_stars           | 3.76                 \n date                    | 2015-09-17 00:56:28  \n compliment_count        | 6                    \n-RECORD 19--------------------------------------\n text                    | First time I visi... \n restaurant_name         | The Scottish Arms    \n review_stars            | 4.0                  \n restaurant_review_count | 513                  \n average_stars           | 3.76                 \n date                    | 2015-09-21 13:21:58  \n compliment_count        | 6                    \nonly showing top 20 rows\n\n"
     ]
    }
   ],
   "source": [
    "spark.sql(f'''\n",
    "  SELECT text, restaurant_name, review_stars, restaurant_review_count, average_stars, date, compliment_count\n",
    "  FROM restaurant_reviews_for_summarization_table\n",
    "  WHERE business_id = 'YNgX5_SYHCXSoL9IMdVboA'\n",
    "  AND review_stars > 3 OR review_stars >= average_stars\n",
    "              ''').show(vertical=True)"
   ]
  },
  {
   "cell_type": "markdown",
   "metadata": {
    "application/vnd.databricks.v1+cell": {
     "cellMetadata": {
      "byteLimit": 2048000,
      "rowLimit": 10000
     },
     "inputWidgets": {},
     "nuid": "a147a899-ef29-4321-8f89-a9254eb6586d",
     "showTitle": false,
     "tableResultSettingsMap": {},
     "title": ""
    }
   },
   "source": [
    "#### Amount of Reviews\n",
    "Normally, it shouldn't be too relevant how many reviews a user has made on Yelp, and we even went over a case on how a single bad review can be more telling than many good reviews. However, a single good review may be cause for suspicion. Some businesses employ a practice to incentivize a user to leave a good review for a business with the promise of discounts, benefits, or in my case, I have been given a Starbucks gift card. The users who leave a review in this case will generally be positive, because they view it as a quid pro quo for a reward. They may not use Yelp again. So we can safely devalue their opinion for integrity's sake.\n",
    "\n",
    "\n",
    "There is also the issue of botted reviews in our digital age. If a business has a lot of 5-star reviews which are the only reviews on that user's account, it may be cause for suspicion. We already are using AI for this project, so it's best to eliminate suspected silicon life from other aspects of our process. \n",
    "\n",
    "\n",
    "So for positive reviews, we will be filtering out those who leave a positive review with only 1 review on their account."
   ]
  },
  {
   "cell_type": "code",
   "execution_count": 0,
   "metadata": {
    "application/vnd.databricks.v1+cell": {
     "cellMetadata": {
      "byteLimit": 2048000,
      "rowLimit": 10000
     },
     "inputWidgets": {},
     "nuid": "32e4ee12-57dd-4b7c-9409-f9d5e8701276",
     "showTitle": false,
     "tableResultSettingsMap": {},
     "title": ""
    }
   },
   "outputs": [
    {
     "output_type": "stream",
     "name": "stdout",
     "output_type": "stream",
     "text": [
      "-RECORD 0---------------------------------------\n text                    | Extremely unprofe... \n restaurant_name         | Nu Yalk Pizza        \n review_stars            | 1.0                  \n restaurant_review_count | 448                  \n average_stars           | 1.0                  \n date                    | 2021-02-08 05:17:07  \n compliment_count        | 0                    \n user_review_count       | 1                    \n-RECORD 1---------------------------------------\n text                    | The size of this ... \n restaurant_name         | Nu Yalk Pizza        \n review_stars            | 4.0                  \n restaurant_review_count | 448                  \n average_stars           | 3.5                  \n date                    | 2021-11-05 03:34:33  \n compliment_count        | 6                    \n user_review_count       | 4                    \n-RECORD 2---------------------------------------\n text                    | The second worst ... \n restaurant_name         | Nu Yalk Pizza        \n review_stars            | 2.0                  \n restaurant_review_count | 448                  \n average_stars           | 1.4                  \n date                    | 2021-04-14 01:17:46  \n compliment_count        | 0                    \n user_review_count       | 5                    \nonly showing top 3 rows\n\n"
     ]
    }
   ],
   "source": [
    "spark.sql(f'''\n",
    "  SELECT text, restaurant_name, review_stars, restaurant_review_count, \n",
    "         average_stars, date, compliment_count, user_review_count\n",
    "  FROM restaurant_reviews_for_summarization_table\n",
    "  WHERE business_id = 'YNgX5_SYHCXSoL9IMdVboA'\n",
    "    AND (review_stars > 3 OR (review_stars >= average_stars)) \n",
    "    AND (YEAR(date) == 2021 OR YEAR(date) == 2020 OR YEAR(date) == 2022)\n",
    "  GROUP BY YEAR(date), date, text, restaurant_name, review_stars, \n",
    "           restaurant_review_count, average_stars, compliment_count, user_review_count\n",
    "  ORDER BY user_review_count\n",
    "''').show(3, vertical=True)"
   ]
  },
  {
   "cell_type": "markdown",
   "metadata": {
    "application/vnd.databricks.v1+cell": {
     "cellMetadata": {
      "byteLimit": 2048000,
      "rowLimit": 10000
     },
     "inputWidgets": {},
     "nuid": "f40b872b-29e8-46b1-8c2f-215a773b4bb3",
     "showTitle": false,
     "tableResultSettingsMap": {},
     "title": ""
    }
   },
   "source": [
    "The last consideration we have to make is for establishments which have an insufficient amount of reviews to generate a summary. We have decided that if a restaurants has less than three reviews, it should not generate a summary, both because it would be hard to identify general trends in a establishment with such paltry data, and because it would simply be more intuitive tfor the user to read all of the reviews. In this case, it would realistic to expect a user to read every review and make a decision based on their own judgment if they only had to read two. Three is also the earliest number it would take to break a tie if there is a split consensus. \n",
    "\n",
    "However, after looking at the data, within the restaurants we selected through wrangling, there are none with less than 5, only less than 6. We will still include the filter for less than 3 as a contingency, should a business meeting the criteria be added to the database. In today's digitial media environment, tweets can receive comments of too long; didn't read. With all the vying sources of attention, it's unrealistic to expect a hungry Yelp user to truly sit through reading all five reviews when they can get a summary elsewhere."
   ]
  },
  {
   "cell_type": "code",
   "execution_count": 0,
   "metadata": {
    "application/vnd.databricks.v1+cell": {
     "cellMetadata": {
      "byteLimit": 2048000,
      "rowLimit": 10000
     },
     "inputWidgets": {},
     "nuid": "aff6e887-cf2f-4ddc-8dbb-5a523e04b180",
     "showTitle": false,
     "tableResultSettingsMap": {},
     "title": ""
    }
   },
   "outputs": [
    {
     "output_type": "stream",
     "name": "stdout",
     "output_type": "stream",
     "text": [
      "+-----------------------+\n|restaurant_review_count|\n+-----------------------+\n+-----------------------+\n\n+-----------------------+\n|restaurant_review_count|\n+-----------------------+\n|                      5|\n|                      5|\n|                      5|\n|                      5|\n|                      5|\n+-----------------------+\nonly showing top 5 rows\n\n"
     ]
    }
   ],
   "source": [
    "spark.sql('''\n",
    "SELECT restaurant_review_count\n",
    "FROM restaurant_reviews_for_summarization_table\n",
    "WHERE restaurant_review_count < 5\n",
    "''').show()\n",
    "spark.sql('''\n",
    "SELECT restaurant_review_count\n",
    "FROM restaurant_reviews_for_summarization_table\n",
    "WHERE restaurant_review_count < 6\n",
    "''').show(5)"
   ]
  },
  {
   "cell_type": "code",
   "execution_count": 0,
   "metadata": {
    "application/vnd.databricks.v1+cell": {
     "cellMetadata": {
      "byteLimit": 2048000,
      "rowLimit": 10000
     },
     "inputWidgets": {},
     "nuid": "2aea11ab-c553-4bae-a10d-95789c04ef39",
     "showTitle": false,
     "tableResultSettingsMap": {},
     "title": ""
    }
   },
   "outputs": [],
   "source": [
    "def get_positive_negative_reviews_together(inputs):\n",
    "    if not inputs or len(inputs) < 1 or not inputs[0]:\n",
    "        raise ValueError(\"Input list is empty or input1 is not provided.\")\n",
    "    \n",
    "    input1 = inputs[0]\n",
    "    # this checks whether of not the business is located in our table. If not, it was filtered out in the wrangling stage\n",
    "    business_check_query = f\"\"\"\n",
    "    SELECT COUNT(*) AS count\n",
    "    FROM restaurant_reviews_for_summarization_table\n",
    "    WHERE business_id = '{input1}'\n",
    "    \"\"\"\n",
    "    business_check_df = spark.sql(business_check_query)\n",
    "    business_count = business_check_df.collect()[0][0]  # Get the count of rows (if any)\n",
    "\n",
    "    if business_count == 0:\n",
    "        print(f\"Business ID '{input1}' not found in the Restaurants Table. Business ID must be in the restaurants table to qualify.\")\n",
    "        pos_review_list = ['No reviews available']\n",
    "        neg_review_list = ['No reviews available']\n",
    "        pos_review_dict = {'sentiment': 'not a restaurant', 'review_list': pos_review_list}\n",
    "        neg_review_dict = {'sentiment': 'not a restaurant', 'review_list': neg_review_list}\n",
    "        return pos_review_dict, neg_review_dict\n",
    "\n",
    "\n",
    "    # Review collector: Positive reviews\n",
    "    query_pos = f\"\"\"\n",
    "    SELECT text, restaurant_name, review_stars, restaurant_review_count, \n",
    "        average_stars, date, compliment_count, user_review_count\n",
    "    FROM restaurant_reviews_for_summarization_table\n",
    "    WHERE business_id = '{input1}'\n",
    "    AND (review_stars > 3 OR (review_stars >= average_stars)) \n",
    "    AND YEAR(date) IN (2020, 2021, 2022)\n",
    "    AND user_review_count > 1\n",
    "    ORDER BY YEAR(date) DESC, compliment_count DESC\n",
    "    \"\"\"\n",
    "    \n",
    "    df_restaurant_data_pos = spark.sql(query_pos)\n",
    "    pos_reviews = df_restaurant_data_pos.collect()\n",
    "\n",
    "    pos_review_list = [row.text for row in pos_reviews]\n",
    "\n",
    "    # Attaches the restaurant name for LLM to identify\n",
    "    restaurant_name = [row.restaurant_name for row in pos_reviews]\n",
    "    pos_review_list.insert(0, restaurant_name)\n",
    "\n",
    "    # Review collector: Negative reviews\n",
    "    query_neg = f\"\"\"\n",
    "    SELECT text, restaurant_name, review_stars, restaurant_review_count, \n",
    "        average_stars, date, compliment_count\n",
    "    FROM restaurant_reviews_for_summarization_table\n",
    "    WHERE business_id = '{input1}'\n",
    "        AND review_stars <= 3\n",
    "        AND YEAR(date) IN (2020, 2021, 2022)\n",
    "    ORDER BY YEAR(date) DESC\n",
    "    \"\"\"\n",
    "\n",
    "    df_restaurant_data_neg = spark.sql(query_neg)\n",
    "    neg_reviews = df_restaurant_data_neg.collect()\n",
    "\n",
    "    neg_review_list = [row.text for row in neg_reviews]\n",
    "   \n",
    "    pos_review_dict = {'sentiment': 'positive', 'review_list': pos_review_list}\n",
    "    neg_review_dict = {'sentiment': 'negative', 'review_list': neg_review_list}\n",
    "\n",
    "    return pos_review_dict, neg_review_dict\n"
   ]
  },
  {
   "cell_type": "markdown",
   "metadata": {
    "application/vnd.databricks.v1+cell": {
     "cellMetadata": {
      "byteLimit": 2048000,
      "rowLimit": 10000
     },
     "inputWidgets": {},
     "nuid": "37b6fd71-7154-4a54-b2d5-64422225391c",
     "showTitle": false,
     "tableResultSettingsMap": {},
     "title": ""
    }
   },
   "source": [
    "The function creates the output below, two dictionaries which are sorted by positive and negative, and all of the reviews which were determined to fit into those categories. This is what we will be feeding into our first prompt."
   ]
  },
  {
   "cell_type": "code",
   "execution_count": 0,
   "metadata": {
    "application/vnd.databricks.v1+cell": {
     "cellMetadata": {
      "byteLimit": 2048000,
      "rowLimit": 10000
     },
     "inputWidgets": {},
     "nuid": "a43fddd0-4958-417d-9799-e9e1d393e19c",
     "showTitle": false,
     "tableResultSettingsMap": {},
     "title": ""
    }
   },
   "outputs": [
    {
     "output_type": "stream",
     "name": "stdout",
     "output_type": "stream",
     "text": [
      "Business ID 'Hp3Ony7yW60VPuWHQFIIHA' not found in the Restaurants Table. Business ID must be in the restaurants table to qualify.\nOut[17]: ({'sentiment': 'not a restaurant', 'review_list': ['No reviews available']},\n {'sentiment': 'not a restaurant', 'review_list': ['No reviews available']})"
     ]
    }
   ],
   "source": [
    "get_positive_negative_reviews_together(['Hp3Ony7yW60VPuWHQFIIHA'])"
   ]
  },
  {
   "cell_type": "code",
   "execution_count": 0,
   "metadata": {
    "application/vnd.databricks.v1+cell": {
     "cellMetadata": {
      "byteLimit": 2048000,
      "rowLimit": 10000
     },
     "inputWidgets": {},
     "nuid": "5893764c-d456-45eb-94da-aa0166424893",
     "showTitle": false,
     "tableResultSettingsMap": {},
     "title": ""
    }
   },
   "outputs": [
    {
     "output_type": "stream",
     "name": "stdout",
     "output_type": "stream",
     "text": [
      "Out[18]: ({'sentiment': 'positive',\n  'review_list': [['Nu Yalk Pizza',\n    'Nu Yalk Pizza',\n    'Nu Yalk Pizza',\n    'Nu Yalk Pizza',\n    'Nu Yalk Pizza',\n    'Nu Yalk Pizza',\n    'Nu Yalk Pizza',\n    'Nu Yalk Pizza',\n    'Nu Yalk Pizza',\n    'Nu Yalk Pizza',\n    'Nu Yalk Pizza',\n    'Nu Yalk Pizza',\n    'Nu Yalk Pizza',\n    'Nu Yalk Pizza',\n    'Nu Yalk Pizza',\n    'Nu Yalk Pizza',\n    'Nu Yalk Pizza',\n    'Nu Yalk Pizza',\n    'Nu Yalk Pizza',\n    'Nu Yalk Pizza',\n    'Nu Yalk Pizza',\n    'Nu Yalk Pizza',\n    'Nu Yalk Pizza',\n    'Nu Yalk Pizza',\n    'Nu Yalk Pizza',\n    'Nu Yalk Pizza',\n    'Nu Yalk Pizza',\n    'Nu Yalk Pizza'],\n   'Its been a long time since ive been here, and seeing as i have never reviewed them i felt i needed to do that. I ordered 2 pepperoni pizza slices and an ice tea for pick up. I arrived 10 minutes after ordering and when i arrived, the really nice gal behind the counter informed me that it was coming out soon. I  soon received a medium sized box and my drink. I went back to work (2 minutes away) and opened the box at my desk. Wow! One slice is easily the size of a full small pizza, and i ordered 2! The crust is the winner today. Great crust, great taste and not burnt. The sauce was great as well. Im a fan of a simple sauce and this one was that. Not too thick either! The cheese and pepperonis were delicious of course, and i will not be a stranger to come here ever again! WOW! 1 slice is all you need by the way.',\n   \"Whoa! So we've been here a few times for slices at lunch but were craving pizza the other night. $30 for a pizza that didn't even fit on my lap in the suv!! It was so big we had to put it in the trunk. It was everything we had wanted with our cravings too. My only complaint which is probably a positive for many people, was there was actually *too much* pepperoni on the pepperoni half and the pancetta was pretty generous too. Hubby and toddler liked the pancetta but that's another thing I'm weird about. It was a bit fatty and kind of hard for me so I just picked it off and handed it over. It was still yummy with nothing on it. They get the ratios just right. This will be our new pizza spot with the Covid hiatus of smiling with hope.\",\n   'This place is really awesome! The guys working there are super friendly and nice and the pizza was great! I got two slices, one with pepperoni and one with pancetta. They were both great, the pancetta was my favorite though, it was very tasty I highly recommend!',\n   'Ordered a large pizza with pepperoni and pancetta. It was delivered in 45 minutes and was nice and warm when it arrived. The pizza itself was really good. It was a great size, and the dough, sauce and toppings were all great. Would definitely order from here again!',\n   \"The size of this pizza was insane!!! If you're looking for thin crust.. this is your spot! Pizza was yummy, not super oily. Definitely worth 28$ \\nI got a cheese pizza definitely would try more topping next time\",\n   'Food is really good, an all fresh and organic. A single order of Lasagna will feed two.  A slice of pizza and a cold coke are also very good.',\n   'Great pizza place: really nice staff and great food. We had an 18\" pepperoni black olive pizza and a salad. It was plenty of food for my family of 5, in fact we had to take a 1/3 of the pizza to go. I would recommend this place if you are in Reno.',\n   \"The food here is pretty darn good I'm sure a New Yorker might find a way to complain because they're good at that. But I like that they are friendly and direct. And the food comes out fast which is what you want. It is spacious and fun to look at. I would normally just give it for store since I really don't like New York style pizza but they are true to their word\",\n   'Love this pizza!!! Best in town. The homemade conollis are absolutely delicious.  Very friendly and I will definitely be back!',\n   'Their lunch special is great, and the food is delicious. Plus there is plenty of room in their dining room for social distanced eating during a pandemic.',\n   'The pizza was good but way OVERPRICED. $62.36 for 2 large pizzas. 1 pizza had one topping and the other pizza had 2 toppings. There is better and cheaper pizza in the area. First and last time visiting this place.',\n   'The second worst pizza we\\'ve had in all of Reno after \"Chicago Pizza with a Twist\" (yuck). We ordered a pepperoni and a gluten-free sausage. Both had absolutely ZERO flavor. The pepperoni had what seemed to be burnt corn meal all over the bottom giving the entire pie a burnt taste. The sauce had no flavor whatsoever. Very little cheese. The gluten-free sausage pizza wasn\\'t too horrible, but still no flavor at all. I would\\'ve complained to the store about the burnt crust but honestly, I won\\'t be eating here again so I don\\'t need them to replace anything... TRASH.',\n   'This Pizza was great! The pizza was big, well worth your dollar. The food was very tasty and fresh with \"in house\" made ingredients. The restaurant was clean and adhering to cdc guidelines. The service was excellent, they were friendly and helpful. With little to no choice of good pizza outside of Reno, I will be driving out of my way to come back to this pizza place for sure!',\n   \"I'm a Florida native, so I know what true New York pizza is supposed to taste like.  Nu Yalk Pizza has the best hands-down New York style pizza in Reno!  The lunch special Monday thru Friday from 11 am to 4 pm is a great deal, one large slice of pizza and a fountain soda for $4.99.  Highly recommend !\",\n   'Pro\\'s: Generous size, organic and super-fresh ingredients, crunchy crust\\nCon\\'s: Being really picky here...sometime the paper plate used for a slice is just a bit too flimsy.\\nGo back?: Definitely!\\n\\nMore...\\nPizza, pizza, pizza. Everyone has an opinion on what makes the perfect pizza and who has the best. To start, I will say there are at least 3 pizza\\'s I like in town. Here\\'s why I like NuYalk; it tastes like the pizza of my childhood. Growing up in San Jose, CA, we either went to Round Table (quick) or Guido\\'s (further and not so quick). Guido\\'s was the true Italian \"gourmet\" version. My fam never could quite figure out why Guido\\'s was so spectacular...was it the cheese? It\\'s CHEESIER than others! Was it the high-quality Italian sausage? The perfect combo of a fluffy-edge crust with a crunchy bottom-crust? Whatever it was, ohhhh, it was our favorite. NuYalk pizza instantly brings back these memories. I just dig it...that\\'s all.\\n\\nAnd the homemade shortbread ain\\'t too shabby, either! :)\\n\\nP.S. They took good care of us with pick-up service during these viral times.',\n   \"So on a couple follow-up visits we finally tuned in a couple of good pizzas. Once you realize their sauce is on the salty side, and perhaps the dough too, just adjust the other ingredients that aren't salty (skip the pancetta!) if that bothers you. Crust is good and chewy (NY style) service too - your pizza will be ready when they say it will be. If you want a similar NY style pizza also try Smiling Hope pizza which is not to far away and pretty good too.\",\n   'Pizza by the slice comes with 1 topping. The slices are HUGE and have a crispy chewy bottom. We ordered a side of anchovies that were hot off the grill and added them to our slices!! Heaven',\n   \"This has quickly become one of my favorite casual pizza spots in town. We usually get a pepperoni, sausage, and black olive pizza and theirs is fantastic. They load up your pizza with toppings without weighing it down. The crust is always nice and airy without being doughy. It's just a solid pizza overall. Aside from the pizza I haven't had much else from the menu but we did get chessy garlic bread one time and I will definitely pass on it. It was a small portion for the price and the bread was soggy with only a hint of garlic flavoring under greasy cheese. So we'll just stick to the pizza. Also, I see a lot of reviews knocking the service and from my experience it has been good for the most part. Nothing to complain about but nothing to rave about either.\",\n   'Love love LOVE! Ordered an 18\" for the office and it was plenty to feed 5 girls. The pizza was so yummy but the best part was the ranch they make. It is hands down the best ranch I\\'ve ever had. This pizza place does not disappoint!!',\n   \"Amazing pies made here..... pizza pies that is!  Friendly staff with the best pies this side of...wellllllll the states. Super great prices and HUGE pizzas... buy by the slice or by the pie.. your choice  one of our family's favorite restaurants. Raviolis are delicious and they have the best dill ranch ever....\",\n   'Not sure why they think everyone loves a heavy dose of Pecorino cheese. Completely overwhelmed the taste of the actual pizza.',\n   'After a two hour bike ride I had a second flat tire and happened to stop near Nu Yalk Pizza to try to fix it.  I could not fix it so went in to find something to drink while waiting for my wife to pick me up, but to add to my unlucky day my debit card did not work.  The lady behind the counter was kind enough to let me get a soda for free and it made a bad day a better one.  So whoever you are, lady behind the counter, thank you again, and I will be back to try your pizzas.',\n   \"I've tried numerous pizza parlors in the greater Reno area, & recently tried Nu Yalk Pizza. I was pleasantly surprised. With our expectations low we ordered our favorite pizza. What a savory surprise! Great pizza made right, in a short time. Hopefully you'll give them a try!\",\n   'By far the best pizza in Reno. I love the lasagna with meatballs too. #EastCoastPizza in the west \\n\\nCashiers and pie masters are always nice.',\n   \"When me and my family visit Reno it's always a tradition to come here. Everyone we bring loves it and they end up coming on their own as well. \\n\\nI haven't been here in a couple years and went vegan in between that time. As any vegan knows, it's nearly impossible to get a decent meal at a non vegan restaurant, but I thought to call and ask New Yalk Pizza just to make sure. We had a group going for lunch and wanted to make sure I could get something. While they do not have anything on their menu that is vegan, I got so lucky when I called and spoke with Chloe who is actually a vegan as well. She went out of her way and take the time to give me great options that actually sound good. \\n\\nShe made me a rigatoni pasta with mushrooms, onions and garlic in pizza sauce (it's vegan). And it honestly was one of the best pastas I've had! HUGE shout out to Chloe for taking the extra time and helping me out. She definitely is an employee who should get some recognition for her great service. Thanks Chloe!\",\n   \"New York style pizza and meatball sandwiches are all yummy and delicious. We've been there with friends many times and can't wait to go there again! Freshly made pizza dough and sauce are all there!\",\n   \"I lived in Manhattan for two years and learned the difference between pizza and great pizza.  While the traditional notion of folding a slice in half and eating it like a sandwich is definitely part of the NY style 'look', the region sports a wide variety of pizza tastes- but only within set parameters.  Taste of the sauce.  How much cheese.  Flavor and fat content of the cheese.  Parameters that don't get explored- crusts; must be foldable.  Toppings- Hawai'ian style? Fuggetaboutit.\\n\\nWith this backstory in mind, I love Nu Yalk Pizza.  Not for exploring pizza topitions outside of the set parameters, but for making the best pizza tradition allows within those parameters.  Think of a classical music performance.  Little improvisation, but that same score can be performed in an infinite number of different ways.  This is a great pizza place.\",\n   \"July 2020 ( Still quality,Great service,) That's all I can ask for from my favorite Pizza in Nevada..Been coming for over 20+ years.. Support your favorite restaurants during these times.\\nWoiks\"]},\n {'sentiment': 'negative',\n  'review_list': [\"Things have changed and unfortunately not for the better.  I wanted a good, quick slice of pizza and this has always been a good choice.  The environment is still that same, a lot of pictures and license plates from New York, a story about the family, industrial look with aluminum chairs and tables. I ordered two slices, the server must be new, having difficulty inputting the order and working the point of sale system.  The food came out reasonably quick but was not prepared the way I ordered, I prefer a crispy crust.  The crust tasted kinda bland, actually everything tasted different, the cheese and sausage where notably different from my previous experiences.  I know they are suffering from product availability, the staff had a small sign posted of some items not available and when asked made it clear, things just aren't available. Maybe that is why it just didn't taste as good as I recall.  I will give them a break and another look when things get back to normal.\",\n   \"WTF is wrong with this place? I place an online curbside order and show up and am told they can't find my order. Then they find it and tell me it'll be another 20 minutes. I then have to go in, and they still can't find my order. And the fu**ing manager doesn't want to help me. WTF!!!\",\n   \"I have been to Nu Yalk Pizza over the last 10 years and it seems that it is just getting worse each year. Today, August 17, 2021, we ate there and the pizza was like a thin crust, no Taste and just not good. I don't know what happened to these guys because they used to be good and now they really are not at all. I will not be going back after a decade eating there when I am in town.\",\n   'Some dude commented on my post (Jacob H.\\nRiverwalk District, Reno, NV). So this is directed at his comment (below).\\n\\nReally dude!!?? What do you work for them?\\n\\nFirst of all: ALL my reviews are straight forward and honest.\\nSecondly, they wanted .65 for a tiny little ranch NOT .50 your facts are WRONG.\\nThirdly, we are a PIZZA loving family!!!!, we spent $65-$70 and we had 2 salads and they tried to charge us for an extra ranch... Hello, don\\'t try to make them out to be,  poor buisness owners trying to make a living .65 cent at a time...\\nThe servers were not very good, the pizza was OK (I would reccomend Skipolini\\'s over NU Yalk).\\n\\nSKIPS IS BETTER TASTING AND THEY DONT CHARGE FOR ANY RANCH DRESSING, THEY WANT YOUR BUISNESS AND ARE WILLING TO EARN IT.\\n\\nUNLIKE NU YALK, that thinks they are doing you a favor by letting you eat at their resturant. Cheap owners/management drove away a family that eats out 1-2 a week over .65 cents.\\n \\nJacob\\'s statement\\n\"So because other pizza places around town use PREMADE ranch and don\\'t charge for it, these guys should cater to you as well even tho they make the ranch in house?\\nAnd it\\'s not 65 cents. It\\'s only 50 cents.\"',\n   \"They took 40 min for a large pizza!! The sauce was not good (Probably bought it)  Only 2 slices of cucumber in my salad (talk about being cheap) This place is not the same. Little Caesar's is honestly better.\",\n   'I usual have a good experience here, but today on 2/13 around 5:20pm, I waited for about an hour for a calzone and a pepperoni slice. The calzone was the one that took an hour to do, but they should have warned me that it would be that long. I was 2 minutes late getting back from my lunch break and that pissed me off very much. The only consolation, if any, was that the pizza was decent as usual.',\n   'We\\'re done with Nu Yalk Pizza! Been going there for years and get the NY vibe Rick created. But...the place is loud and filthy and the employees are rude and strung-out. 7:30pm, the place is empty, we order pizza and beer, and there\\'s not a cleaned-off table, I ask to get the table cleared and wiped-off, the restroom is nasty. Eating our pizza, drinking beer, watching baseball. 8:56pm the TVs go off, someone yells, \"We\\'re closed!\" and employees noisily stack metal chairs all around us, so much so that we got up and left and didn\\'t finish our pizza or beer!! I\\'d love to support this local business but I can get better pizza and customer service elsewhere!',\n   'This is the furthest thing from NY style pizza that I\\'ve ever had that claimed to be NY style.  What\\'s with slicing it in 2\" sections?  Clearly these guys have never been to NY or had NY style pizza.  Will not be wasting our money coming here again.',\n   'This used to be one of my favorite places but the pandemic has changed them. They are now staffed by some pretty rude people, and pizza takes forever to get. I have stopped going here where I used to eat here every Thursday after my soccer game.  Makes me sad, and a bit defeated.',\n   \"I have been a fan of Nu Yalk since I was kid when they were over on Prater way in Sparks and always looked forward to eating there. We had some family in town that I hadn't seen in over 20 years and thought NYP would be the perfect spot. First the restaurant was dirty. The floors were gross and even the tabletops hadn't been cleaned. Maybe they forgot we are in the middle of a pandemic? My wine glass had a film of dust and I don't even want to know what else and they served my cousin a draft beer in a tattered plastic mug. Is a glass mug too much to ask? The pizzas took well\\nover an hour and they were ok, but not the usual delicacy we've come to know and love. I'm not saying I won't ever go back, but I'm hoping they make some much needed improvements and maybe hire a professional cleaning crew to clean up the place. I was really disappointed.\",\n   'What happened to this place?  My family and friends have been going here for YEARS with no problems and now you deal with slow service, rude staff and a dirty restaurant.  The two young female cashiers, one blonde and the other with darker hair act like they are doing you a favor by letting you buy overpriced pizza, I asked for a manager twice because I had been waiting forever for my pizza and the blonde girl at the counter threw a mini tantrum. The manager was making pizza about 20 feet away so she could hear that I was upset and wanted a manager but kept her head down and ignored me and the whole situation. I ended up getting cold pizza (my pizza was left on top of the oven and no one told me), attitude and probably E.coli because the place was filthy. Will never step foot in that place again.',\n   'The pizza was good but way OVERPRICED. $62.36 for 2 large pizzas. 1 pizza had one topping and the other pizza had 2 toppings. There is better and cheaper pizza in the area. First and last time visiting this place.',\n   'The second worst pizza we\\'ve had in all of Reno after \"Chicago Pizza with a Twist\" (yuck). We ordered a pepperoni and a gluten-free sausage. Both had absolutely ZERO flavor. The pepperoni had what seemed to be burnt corn meal all over the bottom giving the entire pie a burnt taste. The sauce had no flavor whatsoever. Very little cheese. The gluten-free sausage pizza wasn\\'t too horrible, but still no flavor at all. I would\\'ve complained to the store about the burnt crust but honestly, I won\\'t be eating here again so I don\\'t need them to replace anything... TRASH.',\n   \"While the restaurant is nice and is clean the pizza is pretty bad.  For $36 we got a pizza that was worse than a $10 pizza from Dominoes.  The ingredients are poor, the pizza crust was bland and it wasn't really cooked well.  I would pass on these guys.\",\n   \"How can you call yourself a New York pizza place and not have white pizza with ricotta cheese or Margarita Pizza? An honest question. Also, less important but no pineapple?\\n\\nAs you can tell since they don't have those things this clearly is not real New York pizza and is overpriced.\\n\\nPlease be better and good luck.\\n\\nEdit: edited this to one star after trying the pizza. Not only is it clearly not New York pizza its just not good pizza. Will not be coming here again. Don't even give them a chance.\",\n   \"Extremely unprofessional. The 2 ladies in the front were very rude and made it seem like it was an inconvenience for me to be there. I arrived at around 2:50PM(when I was told it would be ready) to pick up the food I ordered over an hour prior. When I arrived, I was told it would be ready in 10 minutes so I waited, then went back up again and was told it would be ready in a few minutes. A few minutes passed and I was told it would be ready in 15 minutes, then 10 minutes again, then 5 minutes. No apology whatsoever and quite frankly, I don't even think they cared to give me what I paid for. If you go here, please do not order online because they don't pay attention to it. Better yet, don't order at all because it won't be ready until well over an hour after you were promised it would be done.\",\n   'Waited almost an hour for a 15\" 2 topping pizza. Upon eating, the pizza looked great but the sauce was NOT good.',\n   'Disappointed. I LOVE this place, since 1999 on moana, but what happened? Pizza was forgotten, ok, but it took 50 minutes to get a 12\" pizza \"from scratch\" did nothing to resolve the issue, take responsibility or compensate for service mistakes. I\\'m sad to see this place suffer from poor customer service like this. Pizza is still stellar, but undercooked. Makes good leftovers, but please, with the pricing and steady business it seems like an opportunity to delight customers that failed miserably.',\n   \"Wow what a shame, this place used to be so consistently good and sadly it's become consistently bad. Between the service & quality of the pizza it looks like it's time to find a new favorite spot in Reno.\",\n   \"Haven't been here since CoVID.  Was so excited for the best cheese slice, it was the worst.  Will never stop there again.  Fountain drinks were out and when I told someone no fixed it.  Never again!\",\n   \"Good pizza, but customer service sucks!\\n\\nThere was a girl with glasses and a hoodie on who couldn't even look at us once while we were ordering, let alone make us feel welcome. When the pizza came out, it was surprisingly appetizing. However, combined with the fact that they won't give boxes out (they give aluminum foil sheets to take your leftover pizza in), and the fact that they didn't get our entire order out to us (didn't give us the cannoli we ordered), and the fact that they didn't even blink an eye at any of the above inconveniences, this place is one of the worst restaurants in Reno right now.\\n\\nDefinitely do not recommend this place at all - especially when there's other pizza places around that give out unlimited toppings for a flat price - and make you feel welcome, complete with take home pizza boxes for your leftovers.\",\n   'Friendly staff and good location.  We ordered the 18\" combo pizza and while it was good we noticed the crust was a little hard and it could have used some more sauce .  Overall I in my opinion the pizza needs to be less hard on the crust and a little more sauce and it would have been perfect.',\n   'Delivery was fast and food was good :) We had their Pepperoni Pizza n it was fresh and good for movie night',\n   \"I met a friend for lunch last Friday. It was 11:30am and I was expecting to see a line but there was not one. \\n\\nThe menu was different from the last time I dined here. I actually chose this place because the sandwiches were good. They do not have those sandwiches any longer. They have hero sandwiches with meatball or sausage but that was not what I was looking for. I don't like pizza that much but my friend does so I was trying to choose a place to eat that would satisfy both of our needs. We decided to share a meatball pizza and some cheesy garlic bread. I recall enjoying the meatball pizza in the past.\\n\\nThe pizza didn't take too long to come out. It was an okay pizza. The crust was not like I remember it nor was the sauce. I mostly just tasted salt and dough. I didn't enjoy the meatballs very much. Even with ranch I just couldn't get in to this food. My friend very much liked his food. \\n\\nI don't know if I would recommend this location but I wouldn't deter you from checking it out yourself. \\n\\nMy overall OPINION: it was okay.\",\n   'I ordered two pies a couple of weeks ago from this place, over the phone, as I pulled up into the parking lot. The girl who answered took my order stated to wait in my car and that they would call me within half an hour when the order was ready for pickup. After about an hour, I noticed that staff were coming out to bring orders to other customers waiting when I called to get check on my order. The phone rang several times with no answer when I decided to walk inside. I was met by a female employee at the counter who non-chalantly stated that my order was ready and pointed to the pies sitting on top of the pizza oven. When I asked why I didn\\'t receive a call, the female employee didn\\'t answer and proceeded to ring up my order. When I asked if I can bring the order back if it\\'s cold, since it\\'s been sitting there, she responded \"you do you.\" When I asked what that meant, she sneered with a hand motion \"you do what you think is right.\" When I ate a couple of slices when I arrived home, I can tell you for a pizza joint that prides itself in being owned by an Italian family originally from Staten Island, I can tell you that it\\'s a disgrace if the current pizza is made from an original recipe. Very bready...something that you would normally get from out of New York City or Northern New Jersey. \\n\\nThe female who was working the counter is short with very short brown hair and pale skin. \\n\\nIf you see her, turnaround and walk out.\\n\\nThe business should be renamed \"Nu Yuck Pizza.\"',\n   \"Let's start with the menu.  Needs to be a little bit more organized and if you're hanging it overhead behind the cash register include all specials there. I ordered two singles slices with multiple toppings and then the cashier pointed to a sign on the counter letting me know one topping on single slices. \\nSecond time I've been here in 15 years and pizza is still greasy AF. \\nCoca-Cola ran out of the soda fountain. Let staff know it needed to be swapped out. 20 minutes later still no replacement.\\nThis will be the last time I come here and will not recommend it to anyone.\",\n   \"Spent $60 for two pizzas. Got them home how they were handed to me and the top of one was stuck to the box. When I called to ask about it, I was told they don't use spacers because their pizzas don't do that. Guess they should buy some spacers because they do.\",\n   'Nu Yalk pizza is ok. We had slices and drinks. Pizza was too salty. The industrial atmosphere is cold. The staff is nice. Prices are good. Off my list.',\n   \"I have been going to and loving Nu Yalk Pizza since they opened in 1978 in what was then called the Gemco Shopping Center, where Sportsman's Warehouse is now. When they opened they called themselves New York Pizza, not Nu Yalk.  After some years they moved across Kietzke on the SW Corner at Moana into a converted original format 7/11 convenience store that was taken by the City to widen Moana along with several other buildings on the South side of Moana from the SW corner of So. Virginia and Moana east to the Freeway.\\n\\nFor a number of years I operated a Retail store in fairly close proximity. We ordered Pizza for lunch as much as three times a week and sometimes dart out for a slice or two.\\n\\nI always told people that New York Pizza was the best pizza in town.\\n\\nFunny story, I used to work with a young lady, a new arrival to the States from Japan, I recommended NY to her. I asked her how it was? She said they had bad service. I laughed and said, they don't have bad service, they have no service, there is a difference LOL, it is a self-service type place... She liked the pizza.\\n\\nWell... The last three times in a row, over as many months, that I have dropped in for a slice (I can't eat two anymore) the pie has been burnt. Mind you, I don't mean a burn spot here and there on the bottom of the crust which is fine and normal. There has been a distinct BURNT flavor permeating each bite. The first time it happened I just went with it thinking, hey things happen... The next (second) time, same thing, today, same thing.\\n\\nRick, get it together and stop managing the place from home over an array of Internet IP Cameras.\\n\\nThe new place is a lot nicer than the old place but the pizza, even on the good days I went there after the new location and before my last three poor experiences is not as good as it used to be.\\n\\nAt some point I'll give it one more chance for old time's sake, if it happens again, I'll not go anymore.\",\n   'As a New Yorker I have been eating and loving Nu Yalk Pizza for many years. \\nI would order 8 pizzas for my birthday every year.\\nNu Yalk Pizza was one of the reasons I could move here.\\n\\nSomething changed when when the original owner retired and left the business to his son.\\nThe pizza is no longer a New York Pizza. \\nI asked the pizza maker what happened to the old way the pizza used to be made and said this was how was told to make the pizza.\\n\\nIt is completely flat and generally burnt.\\n\\nWhat a disappointment',\n   'Today, Wed 1/22/20 2pm, after lunch rush in the area.\\xa0\\nWalk-in and there are maybe 4-5 others eating.\\n\\nI walk right to the counter and am greeted. \\n\\nI place an order for a 12\", 2 topping (pepperoni/green pepper) pizza to go. \\nI pay $17.48 with tax and tip a was offered a cup for water while I wait\\nThe woman who took my order told me \"15 minutes\".\\n\\nI thank her and sit to wait not paying much attention. 2 or 3 more customers come in and order. I notice there are two men working the pizza oven. \\n\\nAfter what seems like longer than 15 mins I stand to check my receipt and if my pizza was possibly sitting on the counter. 27 minutes later my pizza comes out. \\n\\nI politely ask the new woman working at the counter to speak to the manager. She steps to the back, and the woman who originally took my order (manager apparently) comes to the counter.\\xa0\\nI simply want to give her feedback and tell her \"27 minutes ticket times for a single small pizza when you are not busy is excessive.\" and turn to walk out. \\n\\nWithout apology, she starts right into \"well, it takes time to...\"\\nI interrupt her and simply say \"I understand, but if you had told me 27 minutes that would have been fine. You told me 15\"\\xa0\\xa0\\n\\nWhile I say this I notice that standing behind the manager was the other young woman who has nothing to do with this situation and simply went to get the manager, is now giving me 2 smart ass thumbs up and a scowl. \\n\\nI brush the entire interaction off and leave to bring my pizza back to my office.\\xa0\\n\\nThe pizza looked good and was as I ordered. One bite in and it was very obvious the pizza was undercooked with about 1/2 of the crust very doughy and nearly raw. I offered slices to co-workers who all noted the pizza was undercooked as well. One of them even remarked, \"that\\'s not what I am used to getting there, but I only get slices. That place takes forever\"\\xa0\\nI am not bringing my grievances to the internet out of spite and would gladly email the owner or higher management directly but they do not have a contact listed on their site.\\xa0\\n\\n\\nTo potential customers: I had an unpleasant experience today, cannot recommend Nu Yalk and will be ordering pizza elsewhere from now on. If you do eat here, be prepared to wait. I would not recommend taking food to go without checking for doneness.\\xa0\\xa0\\n\\nTo Nu Yalk management: With my 25 years of retail, food and customer service I find myself sharing both positive and constructive feedback directly to management often. In the vast majority of the time, it is well received as I feel most businesses do care to hear from their customers. I do not feel yelp is a good platform to do that, but you may want to temp your ovens, speak with your shift manager and your younger female staff about this situation. Please contact me through this platform if you have any further questions. Order# 1044-4236',\n   \"Entire staff seemed like it was an inconvenience for us to be here. Make sure you walk on egg shells, you might upset their natural habitat of bs ing with one another and hanging out. Seriously though I've never understood how individuals that act that way decide to work in customer service? The food wasn't too bad, pizza was pretty tasty and crust was crisp and thin. Not sure I understand how you can't add extra toppings to a slice of pizza. You're only allowed one topping. I wonder if they're scared to make money as well. I'm rating 1 star simply because the staff could care less that we were there. Might as well have gone to Walmart and bought a red Barron and cooked it in the oven. Pizza isn't as good but at least you expect the service from there. Just be prepared to either ignore or forget about any sort of positive service experience.\",\n   \"I'm bummed.  I was super excited to pick up Nu Yalk pizza and take it home to my fam since I have been craving it for months.  Unfortunately it was so salty none of us could eat it.  I'm not sure what went wrong.  It tasted like someone just dumped a whole container of salt on both pies.  I haven't had Nu Yalk in several years;  maybe they changed recipes.  Maybe it was just a bad day.   I used to love their sauce, but after spending $50 that went in the trash I don't think I'll be back anytime soon.\",\n   \"Went there when it wasn't super busy. All the empty tables were not cleaned. They had social distancing signs up and the tables were spaced out but one would think they would more diligent about cleaning their touch surfaces. Also there was only one bottle of hand sanitizer available for the public.\",\n   'The meatball SANDWICH is delicious! But literally getting yelled at and pretty much being called a liar..that is unacceptable!\\nOrdered by phone, and after I asked for the 12 inch meatball sandwich, he asked if I wanted the pizza or sandwich.  I said \"Sandwich\" . (Rarely eat pizza)\\nGo inside to pick up, and they rang up a pizza, which they now referred to ask \"Pie\"\\nI explained that I wanted a sandwich, so the cashier tells the guy that took my order. He comes to the counter and yells at me that I said pizza!  He said he specifically asked..I agreed he asked..but I said sandwich!!\\nThis went on for awhile as he went back to make a sandwich and still yelling that it was my mistake, etc.\\nI even asked if he was calling me a liar, and he refused to let it go. I have never been yelled at in any type of business before!\\nI e-mailed the owner and waited over a month, still no response!!!  Too bad!',\n   'Not sure why they think everyone loves a heavy dose of Pecorino cheese. Completely overwhelmed the taste of the actual pizza.',\n   'Homeboy James was lit today and hit us with a cool welcome, whereas other homeboy in the white shirt looked as if he was holding back a fat shit the whole time he took my order. In fact he always looks like the most miserable person every time I walk in. Needless to say, he looked super \"thrilled\" to take my order today as he always is. I stood on your guys dumb line you taped and then was told to speak up bc I was too far. What. But you go James. Sprinkle some of that positivity on sad boy, he hates his life, and if that sick mustang in the lot ain\\'t his... that\\'s probably why.',\n   \"Shitty ass service the fucking kid at the counter has such a bad attitude it's like if you hate your job that fucking much don't be there it is your job to treat customers with respect not like a little fucking punk I'm paying for your service and food if there employees can't understand we the customer keep these doors open maybe they need to be informed I will never come to this establishment\",\n   'Wow, what an interesting experience.  Stopped in because I was craving, what else?  New York style pizza.  Should have known by the way they spell their name that the experience would be messed up lol.  Walked in, respected social distancing rules and had my mask in my hand in case I was asked to put it on.  When I got to the counter I was not asked to put my mask on.  I begin to order.  Two slices of pizza.  I asked for two toppings, black olives and tomatoes.  I was told that the slices of pizza only come with one topping.  Ok, no problem.  Black olives and then please add tomato.  I do not mind paying the extra $.60 for it.  Was told they can\\'t do that.  Huh?  Was told if I wanted tomatoes then they would have to come on the side in a plastic ramekin.  Confused, I ask why that is.  Was not really given a reason why just that they can\\'t do that.  Hmmmm, ok.  I was told by the young lady behind the counter that she will make sure there is extra tomato sauce on my pizza.  No, that\\'s not what I am asking for nor what I want.  She also gave me the option of having one slice black olives and the other slice tomatoes.  Lol, again, that\\'s not what I am asking for nor what I want.  Feeling annoyed and confused that a simple topping could not be added, I told her never mind and that I was good.  I proceeded to leave when I hear the young lady start yelling at me from behind the counter across the restaurant (extremely unprofessional) \"make sure you wear your mask next time!\"  I was shocked she actually did that.  Yelling at a customer across the restaurant while other customers were dining? Mind you, all the customers in line in front of me who ordered did not have a mask on when ordering .  Clearly, she was pissy that I decided not to eat there.  But don\\'t worry, I won\\'t be back.  I hope one day she can recognize, or be trained properly on how to treat paying customers.  Especially these days where every customers dollar helps.  There are plenty of very good pizza parlors in Reno/Sparks that give great service and understand the importance of word of mouth.  Good luck to you \"nu yalk\" pizza lol.',\n   \"Nice to see the dining room is now open but won't be open for long if they serve pizza like the one I had today for lunch. Was looking forward to a Brooklyn style meatball pizza. When my pizza arrived it was completely burnt. Maybe they had an off day but you would think the staff would have noticed it was unacceptable before serving an inedible pizza.  There is plenty of great pizza in Reno. Nu Yalk unfortunately was not one of them.\"]})"
     ]
    }
   ],
   "source": [
    "get_positive_negative_reviews_together(['YNgX5_SYHCXSoL9IMdVboA'])"
   ]
  },
  {
   "cell_type": "markdown",
   "metadata": {
    "application/vnd.databricks.v1+cell": {
     "cellMetadata": {
      "byteLimit": 2048000,
      "rowLimit": 10000
     },
     "inputWidgets": {},
     "nuid": "27ddcc10-5384-4e4c-b437-ea6db3954fb3",
     "showTitle": false,
     "tableResultSettingsMap": {},
     "title": ""
    }
   },
   "source": [
    "#### Dictionary Converter Function\n",
    "\n",
    "The next function we need is something that converts the output from one part of our chain into two dictionaries so that it can be read by the next part."
   ]
  },
  {
   "cell_type": "code",
   "execution_count": 0,
   "metadata": {
    "application/vnd.databricks.v1+cell": {
     "cellMetadata": {
      "byteLimit": 2048000,
      "rowLimit": 10000
     },
     "inputWidgets": {},
     "nuid": "9bd0e18d-2cc1-40bd-b838-9511b2a8e1c3",
     "showTitle": false,
     "tableResultSettingsMap": {},
     "title": ""
    }
   },
   "outputs": [],
   "source": [
    "def get_dicts(output):\n",
    "    \"\"\"\n",
    "    Extracts the positive and negative sentiment blocks from the given output.\n",
    "    Returns a dictionary with keys 'positive' and 'negative' for further processing.\n",
    "    \"\"\"\n",
    "    # Ensure output is in the expected format\n",
    "    if not isinstance(output, list) or len(output) != 2:\n",
    "        raise ValueError(\"Expected a list of two dictionaries for positive and negative sentiments.\")\n",
    "\n",
    "    # Extract positive and negative blocks\n",
    "    positive = next((item for item in output if item[\"sentiment\"] == \"positive\"), None)\n",
    "    negative = next((item for item in output if item[\"sentiment\"] == \"negative\"), None)\n",
    "\n",
    "    # Validate that both blocks exist\n",
    "    if not positive or not negative:\n",
    "        raise ValueError(\"Output must contain both 'positive' and 'negative' sentiment blocks.\")\n",
    "\n",
    "    # Return the structured dictionary\n",
    "    return {\"positive\": positive, \"negative\": negative}"
   ]
  },
  {
   "cell_type": "markdown",
   "metadata": {
    "application/vnd.databricks.v1+cell": {
     "cellMetadata": {
      "byteLimit": 2048000,
      "rowLimit": 10000
     },
     "inputWidgets": {},
     "nuid": "ab035f66-cb63-4b81-b3ee-c31345c13956",
     "showTitle": false,
     "tableResultSettingsMap": {},
     "title": ""
    }
   },
   "source": [
    "## Building the Chain for Summarizations"
   ]
  },
  {
   "cell_type": "markdown",
   "metadata": {
    "application/vnd.databricks.v1+cell": {
     "cellMetadata": {
      "byteLimit": 2048000,
      "rowLimit": 10000
     },
     "inputWidgets": {},
     "nuid": "753c2e18-fbe3-4e9a-a445-412069922009",
     "showTitle": false,
     "tableResultSettingsMap": {},
     "title": ""
    }
   },
   "source": [
    "### Prompt Construction"
   ]
  },
  {
   "cell_type": "markdown",
   "metadata": {
    "application/vnd.databricks.v1+cell": {
     "cellMetadata": {
      "byteLimit": 2048000,
      "rowLimit": 10000
     },
     "inputWidgets": {},
     "nuid": "e68c9324-8004-4f26-93a6-dbb7510358af",
     "showTitle": false,
     "tableResultSettingsMap": {},
     "title": ""
    }
   },
   "source": [
    "#### First Prompt: Identifying the Sentiment and Themes"
   ]
  },
  {
   "cell_type": "markdown",
   "metadata": {
    "application/vnd.databricks.v1+cell": {
     "cellMetadata": {
      "byteLimit": 2048000,
      "rowLimit": 10000
     },
     "inputWidgets": {},
     "nuid": "40d25bb2-7c04-4d36-a03f-e471d93efdef",
     "showTitle": false,
     "tableResultSettingsMap": {},
     "title": ""
    }
   },
   "source": [
    "We want to identify common themes in our reviews before passing them over for summarization. This prompt allows us to take the result of our function, the positive and negative reviews for a restaurant, and identify what reviewers are saying. We want to identify the broad themes that keep occuring across many restaurants and synthesize them into universal categories that can be judged as positive or negative, so that our AI can pass judgement on whether the positives outweigh the negatives within that category, and ultimately overall, for the good of the user's Yelp experience. We have used PyDantic in order to create the format for our json output, giving us a way of effieciently creating new fields for our generation. It follows this schema:\n",
    "\n",
    "`[\n",
    "  {\n",
    "    \"restaurant_name\": positive ,\n",
    "    \"sentiment\": ,\n",
    "    \"categories\":\n",
    "  },\n",
    "   {\n",
    "    \"restaurant_name\": negative,\n",
    "    \"sentiment\": ,\n",
    "    \"categories\":\n",
    "  }\n",
    "]`\n",
    "\n",
    "Within the instructions, we make sure to alert the LLM to the criteria we determined above so it can consider it during it's processing, and the user input will be the list of reviews that we collected with our function.\n",
    "\n",
    "As for the model, we have altered the temperature and max output tokens. The temperature is a measure of response variability, with 0 being consistent in it's response from input to input, and 1 being wildly variable and creative. We set ours to 0.3, as we want the AI to have some variation on response, but that should be kept to an appropriate minimum, and the most variation should be based on the inputs, not the AI. If we give it too much liberty, it might end up changing it's mind on the same data if consulted multiple times, which would end up lowering a user's trust on the credibility of the summary if it keeps flip-flopping. As for the tokens, we found that the default amount only allowed for a short sentence for each of the fields. By increasing the tokens to 1500, we are able to generate more a few sentences per point. We don't want to clog our summaries with walls of text for the sake of our readers, so 1500 is the limit. Our summaries will still read as concise, but not overly-scarce in information."
   ]
  },
  {
   "cell_type": "code",
   "execution_count": 0,
   "metadata": {
    "application/vnd.databricks.v1+cell": {
     "cellMetadata": {
      "byteLimit": 2048000,
      "rowLimit": 10000
     },
     "inputWidgets": {},
     "nuid": "5662da63-e015-4b9d-84b1-8013729362a2",
     "showTitle": false,
     "tableResultSettingsMap": {},
     "title": ""
    }
   },
   "outputs": [],
   "source": [
    "from langchain_core.prompts import PromptTemplate\n",
    "\n",
    "\n",
    "class ReviewTheme(BaseModel):\n",
    "  \"\"\"theme found in multiple reviews.\"\"\"\n",
    "  theme: str = Field(description=\"name of the theme identified\")\n",
    "  description: str = Field(description=\"provide a description of the theme\")\n",
    "  reviews: int = Field(description=\"Provide the number of reviews the theme was found in\")\n",
    "\n",
    "class ReviewCategory(BaseModel):\n",
    "    \"\"\"Broad category encompassing multiple review themes.\"\"\"\n",
    "    category: str = Field(description=\"list the broad category under which the themes identified fall under\")\n",
    "    themes: List[ReviewTheme] = Field(description=\"theme found in multiple reviews.\")\n",
    "\n",
    "class SentimentCategories(BaseModel):\n",
    "    \"\"\"List of ReviewCategory instances for positive or negative reviews.\"\"\"\n",
    "    restaurant_name: str = Field(description=\"The name of the restaurant as detected from the beginning of the positive reviews list.\")\n",
    "    sentiment: str = Field(desc=\"can be positive, negative, or not a restaurant\")\n",
    "    categories: List[ReviewCategory] = Field(description=\"Broad category encompassing multiple review themes.\")\n",
    "\n",
    "\n",
    "\n",
    "\n",
    "parser = JsonOutputParser(pydantic_object=SentimentCategories)\n",
    "\n",
    "format_instructions = parser.get_format_instructions\n",
    "\n",
    "\n",
    "\n",
    "template = \"\"\"You are a data analyst summarizing the main themes in a list of {sentiment} reviews for a single restaurant. If the sentiment is 'not a restaurant', ignore all instructions and output a message notifying that the selected establishment was determined not to be a restaurant. The order in which you receive reviews will be ordered by reviewer credibility if the reviews are positive, so weigh their opinions more when summarizing without completely disregarding the lower reviews. At the beginning of the list of positive reviews, you will receive the restaurant name, which should be identified as such. Then, identify the main themes of {sentiment} aspects of the restaurant that are discussed in multiple reviews. Next, summarize each theme as a description using a detailed multiple paragraph format. Next, group common themes into broader categories. Then, as output provide the sentiment as to whether the reviews are negative or positive, a bullet point list of the categories, the theme descriptions within each category in a detailed paragraph format, and a count of the number of reviews that were {sentiment} about that theme. If the overall sentiment is positive, the order of the reviews received will be in order of credibility, so you should weigh the review's opinions in that order. This does not apply if the sentiment is negative. Additionally, if a review is included with the positives, but has negative aspects, it is likely an inclusion based on the score in relation to the average of that user's reviews. You should focus on the positive aspects of that review in that case.\"\n",
    "\n",
    "{format_instructions}\n",
    "\n",
    "% USER INPUT:\n",
    "{review_list}\n",
    "\n",
    "YOUR RESPONSE:\n",
    "\"\"\"\n",
    "prompt_template = PromptTemplate(\n",
    "    input_variables=[\"sentiment\", \"review_list\"],\n",
    "    partial_variables={\"format_instructions\": format_instructions},\n",
    "    template=template,\n",
    "    temperature=0.3,\n",
    "    max_output_tokens=1500\n",
    ")\n"
   ]
  },
  {
   "cell_type": "markdown",
   "metadata": {
    "application/vnd.databricks.v1+cell": {
     "cellMetadata": {
      "byteLimit": 2048000,
      "rowLimit": 10000
     },
     "inputWidgets": {},
     "nuid": "34103ac8-d3fd-4b4d-96ec-9f46196dfc2b",
     "showTitle": false,
     "tableResultSettingsMap": {},
     "title": ""
    }
   },
   "source": [
    "#### Second Prompt: Deciding the Consensus and Summarizing Based on the Categories\n",
    "\n",
    "For our second prompt, it's time for our LLM to make decision based on the data it has received. By taking the output of the previous prompt, it will weigh based on these five categories:\n",
    "\n",
    "- Food Quality\n",
    "- Service\n",
    "- Atmosphere\n",
    "- Pricing\n",
    "- Cleanliness\n",
    "- Restaurant-Specific Quirks\n",
    "\n",
    "The first four categories are what we identified as categories that could apply to any food-serving establishment, and would be the most important things that could vary in between reviews that would affect peoples opinions. Food Quality speaks for itself, the restaurant's primary purpose is to serve food, so it's quality will be the most consistent thing in a review.\n",
    "\n",
    "Service is also an aspect that every establishment will offer, whether as a sit down restaurant or a drive-thru, the response people get from the employees working the job will be the at least the secondmost thing on every reviewer's mind.\n",
    "\n",
    "Atmosphere is less important in some cases, but we also decided that it could apply to every restaurant. Even in drive-thru restaurants, you get a different sense of atmosphere from say, McDonalds to Chick-Fil-A. One gives off a vibe of laziness a lot of times, think 'broken icecream machine\", while the other resembles a well-oiled military operation being executed with machine precision.\n",
    "\n",
    "All restaurants exchange goods for services, and so pricing is another universal metric through which we can consistently collect reviews mentioning it. Whether or not a restaurants is overpriced or good value for your money will likely influence reviews.\n",
    "\n",
    "Finally, with Cleanliness, we choose to include this because the general hygiene of a restaurant can swing a review quite far, even if the baseline people expect and find at the majority of establishments is good, by regulation. You can have a great tasting dinner with prompt service and a comfy atmosphere, but if a cockroach crawls out of your dinner, suddenly cleanliness of the establishment has rocketed to the top of your review points. Hygiene is a practice that every establishment will have to practice to varying degrees of success, so this earns its spot as a universal category.\n",
    "\n",
    "In addition to the above five universal categories, we have decided to include restaurant-specific quirks as it's own section as an efficient way of grouping all other themes that don't fit into the categories we decided on, which will appear as niche themes based on what restaurant is being analyzed by the AI. This allows for us to catch any key insights by the reviewers that don't fall into the above categories."
   ]
  },
  {
   "cell_type": "code",
   "execution_count": 0,
   "metadata": {
    "application/vnd.databricks.v1+cell": {
     "cellMetadata": {
      "byteLimit": 2048000,
      "rowLimit": 10000
     },
     "inputWidgets": {},
     "nuid": "fa7a9600-4979-4f69-869c-abe1b08a03c9",
     "showTitle": false,
     "tableResultSettingsMap": {},
     "title": ""
    }
   },
   "outputs": [],
   "source": [
    "\n",
    "class ReviewTheme(BaseModel):\n",
    "  \"\"\"theme found in multiple reviews.\"\"\"\n",
    "  theme: str = Field(description=\"list the title of the identified theme. Use 'Counterpoint:' if the theme contrasts with the overall sentiment, whether positive or negative, but only if there are agreeing points to counter. Skip 'Counterpoint:'' if all points are contrary to the overall sentiment.\")\n",
    "  description: str = Field(description=\"provide a description of the theme. if contrary to the overall sentiment, do not contradict the sentiment in your description\")\n",
    "  reviews: int = Field(description=\"Provide the number of reviews \")\n",
    "\n",
    "class ReviewCategory(BaseModel):\n",
    "    \"\"\"Broad category encompassing multiple review themes.\"\"\"\n",
    "    category: str = Field(description=\"list the broad category under which the themes identified fall under\")\n",
    "    themes: List[ReviewTheme] = Field(description=\"theme found in multiple reviews.\")\n",
    "\n",
    "\n",
    "class SentimentCategories(BaseModel):\n",
    "    \"\"\"Structured output for restaurant reviews.\"\"\"\n",
    "    restaurant_name: str = Field(description=\"The name of the restaurant as detected from the previous input.\")\n",
    "    total_reviews: int = Field(description=\"the total amount of reviews analyzed\")\n",
    "    sentiment: str = Field(description=\"The overall sentiment: either 'positive' or 'negative'.\")\n",
    "    categories: List[ReviewCategory] = Field(description=\"\"\"A structured list of review categories, always including:\n",
    "        - Food Quality\n",
    "        - Service\n",
    "        - Atmosphere\n",
    "        - Pricing\n",
    "        - Cleanliness\n",
    "        - Restaurant-Specific Quirks.\n",
    "    \"\"\")\n",
    "    summary: str = Field(description=\"The overall summary of the restaurant review analysis.\")\n",
    "\n",
    "    \n",
    "\n",
    "parser = JsonOutputParser(pydantic_object=SentimentCategories)\n",
    "\n",
    "sum_format_instructions = parser.get_format_instructions\n",
    "\n"
   ]
  },
  {
   "cell_type": "markdown",
   "metadata": {
    "application/vnd.databricks.v1+cell": {
     "cellMetadata": {
      "byteLimit": 2048000,
      "rowLimit": 10000
     },
     "inputWidgets": {},
     "nuid": "0a11d565-e787-4fcf-945a-8ac8ce252806",
     "showTitle": false,
     "tableResultSettingsMap": {},
     "title": ""
    }
   },
   "source": [
    "#### Instructions for the LLM\n",
    "Now that we have defined the format, we can give the LLM specific directions.\n",
    "\n",
    "We are primarily asking the LLM to come to a decision on the sentiment based on the previous output, while following the format instructions. However, there are additional instructions that we have decided to give the LLM. We want the LLM to deliver a message if the business selected by the user is not a restaurant according to our criteria decided upon in the wrangling notebook. We allow for flexibility on the category names, for example, instead of listing \"Food Quality\" as a category, if the LLM is analyzing a pizza restaurant, it can name the category \"Pizza Quality\", to make the summary more contextual. We have, however, set the order of listing the categories in stone. We have also asked the LLM to omit the category sections if the reviews do not mention any of the universal categories. \n",
    "\n",
    "While we agree that every business will have these five aspects, that is not a guarantee that the reviews for that restaurant will contain mention of those themes. This signifies either that it wasn't worth commenting on either way, or that the other aspects heavily outweighed those omitted in the minds of reviewers that they forgot to mention them, being unremarkable. It is also key for the LLM to omit any mention of specific workers in our summary to avoid targetted harassment, even if the Yelp reviewer includes them in their review. Finally, we have instructed the LLM to leave it's own views out of the summary. Despite using AI, we want to deliver as human a product as possible by preserving the thoughts and opinions of the Yelp reviewers in our summaries. It is important to differentiate ourselves from just asking an LLM to do the thinking for us.\n",
    "\n",
    "We also realize the potential for mixed reviews. If there are positive aspects in an otherwise negative consensus, we still want those to be listed, but we want them to be listed after the negative points. The reason this is is because if the AI has made a decision on a consensus, we don't want confused messaging by immediately following up with a contradictory statement to the main sentiment. The counterargument doesn't generally come first in a debate.\n",
    "\n",
    "Our adjustments to the temperature and max tokens are the same as above, but our user input has changed to the positive and negative themes collected by the previous prompt. These will be the variables on which our AI makes its ultimate judgement of positive vs. negative."
   ]
  },
  {
   "cell_type": "code",
   "execution_count": 0,
   "metadata": {
    "application/vnd.databricks.v1+cell": {
     "cellMetadata": {
      "byteLimit": 2048000,
      "rowLimit": 10000
     },
     "inputWidgets": {},
     "nuid": "d6f6ba8c-2df5-476f-a6a9-1f97e70808ce",
     "showTitle": false,
     "tableResultSettingsMap": {},
     "title": ""
    }
   },
   "outputs": [],
   "source": [
    "sum_template = \"\"\"You are a data analyst receiving a list of the main themes in a list of positive and negative reviews for a single restaurant. \n",
    "\n",
    "If the input notifies you that the selected establishment is not a restaurant, print a message that notifies the user that the business id they have selected for analysis is not a restaurant and ignore all of the directions I have listed.\n",
    "\n",
    "You will be receiving a list of positive and negative categories and common themes within those categories. If a restaurant has more of a reviews of a certain sentiment, the sentiment should be positive or negative accordingly, although if the split is very close, the sentiment can be 'mixed'.\n",
    "The categories you will be looking at are these five broad ones: Food Quality, Service, Atmosphere, Pricing, Cleanliness, and an additional category for unique quirks specific to the restaurant. Do not deviate from or combine these categories. The categories should always be listed in this order within the summary, with restaurant specific things at the end. The names can change slightly based on the context, but fit the same theme. If a restaurant had more reviews of a certain sentiment within a category, reflect that in your summary of that category and it's themes. For themes that are contrary to the overall sentiment, whether positive or negative make sure they are listed last in your summary of that category. In your description of these counterarguments, do not use words that contradict the overall sentiment, or your previous descriptions of the prevailing sentiment. Emphasize that these are counterpoints, but not the prevailing sentiment.\n",
    "\n",
    "If there are no reviews that fit within a certain category, do not output that category. Avoid mentioning the names of employees in your summary. Your analysis should contain only views and opinions of the reviewers, none of your personal opinions as an LLM should be taken into consideration. After summarizing the themes, print an overall summary of the consensus of the restarant, written in a concise and formal style. Detect the name of the restaurant through the context of the reviews. Finally, collect a total count of every review you analyzed.\n",
    "\n",
    "{format_instructions}\n",
    "\n",
    "% USER INPUT:\n",
    "{positive}, {negative}\n",
    "\n",
    "YOUR RESPONSE:\n",
    "\"\"\"\n",
    "sum_prompt_template = PromptTemplate(\n",
    "    input_variables=[\"positive\", \"negative\"],\n",
    "    partial_variables={\"format_instructions\": sum_format_instructions},\n",
    "    template=sum_template,\n",
    "    temperature=0.3,\n",
    "    max_output_tokens=1500\n",
    ")"
   ]
  },
  {
   "cell_type": "markdown",
   "metadata": {
    "application/vnd.databricks.v1+cell": {
     "cellMetadata": {
      "byteLimit": 2048000,
      "rowLimit": 10000
     },
     "inputWidgets": {},
     "nuid": "1531a9ae-56c8-437d-882f-abf51a136e34",
     "showTitle": false,
     "tableResultSettingsMap": {},
     "title": ""
    }
   },
   "source": [
    "### Chain Construction"
   ]
  },
  {
   "cell_type": "markdown",
   "metadata": {
    "application/vnd.databricks.v1+cell": {
     "cellMetadata": {
      "byteLimit": 2048000,
      "rowLimit": 10000
     },
     "inputWidgets": {},
     "nuid": "d7fc6e86-f80c-4c10-9b26-31395b3a4f97",
     "showTitle": false,
     "tableResultSettingsMap": {},
     "title": ""
    }
   },
   "source": [
    "#### The First Chain\n",
    "The first chain utilizes a business ID and a list of reviews to extract sentiment and emotion-related information, invoking a function that fetches both positive and negative reviews.\n",
    "\n",
    "This first chain starts by turning our function to collect the positive and negative restaurants together into a runnable, `runnable_restaurants`, using the RunnableLamba function of langchain, which runs the function after it is invoked later in the chain. Then we construct a 3-part chain utilizing the earlier `prompt_template` to establish the input structure for the Google Gemini model, which is signified by `model`, and then passed to the parser, `parser`. The RunnableLambda is wrapped in a runnable each to ensure that each dictionary returned by the function is ran through our three-part chain, and finally we invoke a business ID through the RunnableEach function, and then dump the output as json.\n",
    "\n",
    "This step returns raw, detailed insights on both positive and negative themes identified by the LLM in a semi-readable format.\n"
   ]
  },
  {
   "cell_type": "code",
   "execution_count": 0,
   "metadata": {
    "application/vnd.databricks.v1+cell": {
     "cellMetadata": {
      "byteLimit": 2048000,
      "rowLimit": 10000
     },
     "inputWidgets": {},
     "nuid": "018b0ba6-5eb3-4d4b-86c7-2c913811227e",
     "showTitle": false,
     "tableResultSettingsMap": {},
     "title": ""
    }
   },
   "outputs": [
    {
     "output_type": "stream",
     "name": "stdout",
     "output_type": "stream",
     "text": [
      "[\n  {\n    \"restaurant_name\": \"Claim Jumper Steakhouse & Bar\",\n    \"sentiment\": \"positive\",\n    \"categories\": [\n      {\n        \"category\": \"Food Quality\",\n        \"themes\": [\n          {\n            \"theme\": \"Large Portions\",\n            \"description\": \"Multiple reviews emphasize the generous portion sizes served at Claim Jumper.  Reviewers consistently mention that the portions are so large that they often have leftovers, sometimes enough for another meal. This aspect is highlighted as a significant positive, particularly for those seeking value for their money or those who enjoy taking food home. The sheer quantity of food received is repeatedly praised, indicating that it is a key factor in customer satisfaction and a major draw for many diners.  Even when some dishes are not perfect, the large portion size is still noted as a positive.\",\n            \"reviews\": 11\n          },\n          {\n            \"theme\": \"Delicious Entrees\",\n            \"description\": \"Many reviewers rave about the taste and quality of Claim Jumper's main courses. Specific dishes like the meatloaf, steaks (porterhouse, ribeye), chicken pot pie, salmon, and tri-tip are frequently mentioned as being exceptionally delicious.  The descriptions used often include words like \\\"phenomenal,\\\" \\\"to die for,\\\" and \\\"amazing,\\\" suggesting a high level of satisfaction with the flavor profiles and preparation of these dishes.  The quality of the ingredients is also implied, with comments suggesting that dishes taste homemade or use high-quality ingredients like real cheese in the mac and cheese. Even when other aspects of the meal are criticized, the entrees are consistently praised for their deliciousness.\",\n            \"reviews\": 13\n          },\n          {\n            \"theme\": \"Tasty Appetizers\",\n            \"description\": \"Several reviews highlight the positive experience with Claim Jumper's appetizers.  Specifically, the lemon zucchini appetizer, pretzel bites, calamari, potato skins, and mozzarella sticks are mentioned favorably.  Reviewers describe these appetizers as \\\"wow,\\\" \\\"crispy,\\\" \\\"hot,\\\" and \\\"yummy,\\\" indicating a positive perception of both taste and quality.  The appetizers are frequently shared, suggesting that they are suitable for group dining. While some reviews mention issues with other aspects of their meals, the positive feedback on appetizers remains consistent, suggesting that these items represent a reliably enjoyable part of the dining experience.\",\n            \"reviews\": 6\n          },\n          {\n            \"theme\": \"High-Quality Ingredients\",\n            \"description\": \"Several reviews suggest that Claim Jumper uses high-quality ingredients in their dishes. Reviewers note that the mac and cheese tastes like it's made with real cheese, and other comments imply freshness of ingredients, such as the bacon in salads. While not explicitly stated in all reviews, the overall positive feedback on the taste of the food points towards the use of quality ingredients that contribute to the overall enjoyment of the meals. This is further supported by the high praise given to specific dishes, implying that the ingredients are key to the positive experience.\",\n            \"reviews\": 4\n          }\n        ]\n      },\n      {\n        \"category\": \"Service Quality\",\n        \"themes\": [\n          {\n            \"theme\": \"Excellent Service\",\n            \"description\": \"A recurring theme in the positive reviews is the exceptional service provided by the Claim Jumper staff.  Many reviewers specifically praise their servers for being friendly, attentive, and efficient.  Several reviews mention servers by name, highlighting their exceptional performance and positive attitude. The quick seating, prompt order taking, and regular check-ins are often mentioned, indicating a positive dining experience enhanced by the attentive service.  Even in reviews where other aspects of the meal are criticized, the service is consistently praised, demonstrating that the staff's attentiveness and friendliness play a significant role in customer satisfaction.\",\n            \"reviews\": 12\n          },\n          {\n            \"theme\": \"Attentive Waitstaff\",\n            \"description\": \"Reviewers repeatedly compliment the attentiveness of the waitstaff.  This includes quickly taking orders, refilling drinks frequently, and checking on diners to ensure their satisfaction.  The servers' ability to handle large groups and special requests is also noted positively, indicating a well-trained and capable team.  Even when there were some minor issues with the food or other aspects of the service, the attentiveness of the waitstaff is consistently highlighted as a positive element of the dining experience.\",\n            \"reviews\": 8\n          }\n        ]\n      },\n      {\n        \"category\": \"Restaurant Atmosphere\",\n        \"themes\": [\n          {\n            \"theme\": \"Pleasant Atmosphere\",\n            \"description\": \"Several reviews mention the pleasant and enjoyable atmosphere of the restaurant.  The decor is described as cool and appealing, with some reviewers referencing the rich mining history reflected in the interior.  The spaciousness of the restaurant and the effective social distancing measures are also highlighted as positive aspects.  The overall impression is one of comfort and relaxation, contributing to a positive overall dining experience.  Even when other aspects of the meal or service are slightly criticized, the pleasant atmosphere is consistently mentioned as a positive aspect.\",\n            \"reviews\": 5\n          }\n        ]\n      }\n    ]\n  },\n  {\n    \"restaurant_name\": \"Claim Jumper\",\n    \"sentiment\": \"negative\",\n    \"categories\": [\n      {\n        \"category\": \"Food Quality\",\n        \"themes\": [\n          {\n            \"theme\": \"Subpar Food Quality\",\n            \"description\": \"Multiple reviews cite the decline in food quality since the Landry's acquisition.  Dishes are described as bland, overcooked, undercooked, or simply not worth the price.  Specific examples include overcooked and dry salmon, burnt scallops and lobster, a tough and dry meatloaf sandwich, and rock-hard potato skins.  The quality of ingredients is also questioned, with some reviewers suggesting the use of frozen or pre-cooked items, resulting in a significant drop in overall taste and freshness. This theme is particularly concerning given the restaurant's previous reputation for high-quality food. The inconsistency in food quality across different dishes further highlights the issue, suggesting a lack of standardization in the kitchen.\",\n            \"reviews\": 27\n          },\n          {\n            \"theme\": \"Small Portions\",\n            \"description\": \"Many reviewers express dissatisfaction with the portion sizes, describing them as small, undersized, or insufficient for the price. This is particularly evident in descriptions of the lobster club sandwich (lack of lobster meat), steak fries (only 6 pieces), and the tri-tip dip (minimal cheese and tri-tip). The reduction in portion sizes is often linked to a perceived decline in value for money, contributing to the overall negative perception of the dining experience. The discrepancy between expected portion sizes based on previous experiences and the current reality is a significant factor in the negative feedback.\",\n            \"reviews\": 12\n          },\n          {\n            \"theme\": \"Menu Changes\",\n            \"description\": \"The significant reduction and alteration of the menu are recurring complaints.  The removal of popular items, such as the beef ribs and rotisserie chicken, is a source of frustration for many long-time patrons.  Changes to existing dishes, sometimes resulting in a decrease in quality, have further alienated customers who appreciated the previous menu's variety and consistency. The lack of communication regarding menu changes also contributes to negative sentiment. The perception is that the focus has shifted from quality and variety to cost-cutting measures, which impacts customer satisfaction.\",\n            \"reviews\": 10\n          }\n        ]\n      },\n      {\n        \"category\": \"Service Issues\",\n        \"themes\": [\n          {\n            \"theme\": \"Slow Service\",\n            \"description\": \"Numerous reviews highlight excessively long wait times for food and drinks, even when the restaurant is not crowded.  Wait times of 40 minutes, an hour, or even an hour and a half are frequently reported. This delay is often attributed to understaffing or inefficient service practices, leaving customers frustrated and dissatisfied with the overall dining experience. The inconsistency in service speed, with some tables receiving faster service than others, suggests a lack of organization and coordination within the staff.\",\n            \"reviews\": 20\n          },\n          {\n            \"theme\": \"Inattentive or Rude Staff\",\n            \"description\": \"Several reviews describe instances of inattentive, rude, or unhelpful staff members.  This includes waitstaff who were slow to take orders, forgot items, or were dismissive of customer complaints.  The behavior of the hostess is also criticized in multiple reviews, adding to the overall negative perception of the service.  The lack of attentiveness and professionalism from staff members significantly detracts from the overall dining experience and contributes to the negative sentiment expressed by many reviewers. The contrast between positive experiences with individual servers and negative interactions with other staff members highlights the inconsistency in service quality.\",\n            \"reviews\": 15\n          }\n        ]\n      },\n      {\n        \"category\": \"Other Issues\",\n        \"themes\": [\n          {\n            \"theme\": \"Facility Issues\",\n            \"description\": \"One review describes a strong smell of moldy sewage emanating from the restrooms, creating an unpleasant atmosphere and impacting the overall dining experience. This highlights a significant maintenance issue that needs immediate attention. The lack of response from corporate management indicates a disregard for customer comfort and hygiene.  The negative impact of this issue is amplified by the fact that it is immediately noticeable upon entering the restaurant, creating a lasting negative impression.\",\n            \"reviews\": 3\n          },\n          {\n            \"theme\": \"Pricing\",\n            \"description\": \"The high prices relative to the quality and portion sizes of the food are a recurring concern.  Reviewers express feeling that the food is not worth the cost, often comparing it unfavorably to cheaper alternatives.  This perception of poor value for money further exacerbates the negative sentiment surrounding the dining experience.  The disconnect between the price point and the actual quality of the food and service is a major factor contributing to the overall negative reviews.\",\n            \"reviews\": 17\n          }\n        ]\n      }\n    ]\n  }\n]\n"
     ]
    }
   ],
   "source": [
    "runnable_restaurants = RunnableLambda(get_positive_negative_reviews_together)\n",
    "\n",
    "parser = JsonOutputParser()\n",
    "\n",
    "chain = prompt_template | model | parser\n",
    "\n",
    "runnable_each = runnable_restaurants | RunnableEach(bound=chain)\n",
    "\n",
    "output = runnable_each.invoke(['mNw3UU6PPUAeS31VKgM-qw'])\n",
    "print(json.dumps(output, indent=2))\n"
   ]
  },
  {
   "cell_type": "markdown",
   "metadata": {
    "application/vnd.databricks.v1+cell": {
     "cellMetadata": {
      "byteLimit": 2048000,
      "rowLimit": 10000
     },
     "inputWidgets": {},
     "nuid": "98316a30-c8f0-463b-a51b-342b6c37d3fc",
     "showTitle": false,
     "tableResultSettingsMap": {},
     "title": ""
    }
   },
   "source": []
  },
  {
   "cell_type": "markdown",
   "metadata": {
    "application/vnd.databricks.v1+cell": {
     "cellMetadata": {
      "byteLimit": 2048000,
      "rowLimit": 10000
     },
     "inputWidgets": {},
     "nuid": "cc7e9774-73ad-4226-904d-9f08671b62a7",
     "showTitle": false,
     "tableResultSettingsMap": {},
     "title": ""
    }
   },
   "source": [
    "#### The Full Chain\n",
    "The full chain builds upon the first chain by processing the themes and categories identified and produces conclusive insights for better understanding of customer sentiment by users and actionable improvements for restaurant owners. In our summarization chain, `sum chain`, we incorporate the dictionary conversion function in order to convert the first output into a format readable by our next prompt, `sum_prompt_template` before passing it again through our model and parser. The final chain counts the total number of reviews and sums insights across positive and negative and decides based on the data. The chain has an additional summarization step compared to the first link where insights are counted and aggregated into an overall summary. The output is still structured in a json format."
   ]
  },
  {
   "cell_type": "code",
   "execution_count": 0,
   "metadata": {
    "application/vnd.databricks.v1+cell": {
     "cellMetadata": {
      "byteLimit": 2048000,
      "rowLimit": 10000
     },
     "inputWidgets": {},
     "nuid": "c498d6a6-c2d6-46bc-975f-69f87b5d67b4",
     "showTitle": false,
     "tableResultSettingsMap": {},
     "title": ""
    }
   },
   "outputs": [
    {
     "output_type": "stream",
     "name": "stdout",
     "output_type": "stream",
     "text": [
      "{\n  \"restaurant_name\": \"Claim Jumper Steakhouse & Bar\",\n  \"total_reviews\": 168,\n  \"sentiment\": \"mixed\",\n  \"categories\": [\n    {\n      \"category\": \"Food Quality\",\n      \"themes\": [\n        {\n          \"theme\": \"Large Portions\",\n          \"description\": \"Multiple reviews highlight the generous portion sizes served at Claim Jumper. Reviewers consistently mention that the portions are so large that they often have leftovers, sometimes enough for another meal. This is frequently cited as a positive aspect, especially given the generally positive feedback on the taste and quality of the food.\",\n          \"reviews\": 12\n        },\n        {\n          \"theme\": \"Delicious Entrees\",\n          \"description\": \"A significant number of reviews praise the taste and quality of the main courses. Specific dishes like the meatloaf, steaks (porterhouse, ribeye), chicken pot pie, salmon, and various sandwiches receive particular acclaim. Reviewers describe the food as \\\"to die for,\\\" \\\"phenomenal,\\\" and \\\"delicious,\\\" indicating a high level of satisfaction with the flavor and preparation of the entrees.\",\n          \"reviews\": 15\n        },\n        {\n          \"theme\": \"Tasty Appetizers\",\n          \"description\": \"Several reviews mention the positive experience with appetizers, with specific praise for items such as the lemon zucchini appetizer, pretzel bites, potato skins, and mozzarella sticks. Reviewers describe these appetizers as \\\"wow,\\\" \\\"so good,\\\" and \\\"super yummy.\\\"\",\n          \"reviews\": 6\n        },\n        {\n          \"theme\": \"High-Quality Desserts\",\n          \"description\": \"The restaurant's desserts, particularly the chocolate cake, receive significant praise. Reviewers describe the chocolate cake as \\\"huge,\\\" \\\"super yummy,\\\" and \\\"fabulous.\\\"\",\n          \"reviews\": 5\n        },\n        {\n          \"theme\": \"Counterpoint: Subpar Food Quality\",\n          \"description\": \"Multiple reviews cite the decline in food quality since the Landry's acquisition. Dishes are described as bland, overcooked, undercooked, or otherwise not meeting expectations for a restaurant of this price point. Specific examples include burnt or overcooked meats (steak, salmon, scallops, lobster), under-seasoned dishes, old or stale ingredients (salad, fries, baked potato), and small portions for the price.\",\n          \"reviews\": 28\n        },\n        {\n          \"theme\": \"Counterpoint: Inconsistent Food Preparation\",\n          \"description\": \"A recurring issue highlighted in many reviews is the inconsistency in food preparation. Orders are frequently reported as arriving with incorrect items, incorrect temperatures (cold food, undercooked or overcooked dishes), or with missing components.\",\n          \"reviews\": 18\n        }\n      ]\n    },\n    {\n      \"category\": \"Service Quality\",\n      \"themes\": [\n        {\n          \"theme\": \"Excellent Service\",\n          \"description\": \"Many reviews emphasize the exceptional service provided by the staff. Reviewers frequently mention the friendliness, attentiveness, and efficiency of the servers.\",\n          \"reviews\": 16\n        },\n        {\n          \"theme\": \"Quick Service\",\n          \"description\": \"Several reviews mention the speed and efficiency of service, both for seating and food delivery. Reviewers frequently note that they were seated quickly, especially when the restaurant wasn't busy.\",\n          \"reviews\": 6\n        },\n        {\n          \"theme\": \"Counterpoint: Slow Service\",\n          \"description\": \"Numerous reviews mention excessively long wait times for food and drinks, even when the restaurant is not busy. This slow service is reported as impacting both dine-in and takeout orders.\",\n          \"reviews\": 22\n        },\n        {\n          \"theme\": \"Counterpoint: Inattentive or Rude Staff\",\n          \"description\": \"Several reviews mention negative interactions with staff members. Waitstaff is described as inattentive, rude, or unhelpful. Issues range from slow service and forgetting orders to outright disrespectful behavior.\",\n          \"reviews\": 15\n        }\n      ]\n    },\n    {\n      \"category\": \"Ambiance\",\n      \"themes\": [\n        {\n          \"theme\": \"Pleasant Atmosphere\",\n          \"description\": \"The restaurant's ambiance is described as pleasant in several reviews. Reviewers mention the comfortable seating and the overall atmosphere as contributing to a positive dining experience.\",\n          \"reviews\": 5\n        }\n      ]\n    },\n    {\n      \"category\": \"Other Issues\",\n      \"themes\": [\n        {\n          \"theme\": \"Counterpoint: Restaurant Condition\",\n          \"description\": \"At least one review highlights concerning issues related to the restaurant's physical condition, specifically a strong smell of mold and sewage emanating from the restrooms.\",\n          \"reviews\": 3\n        },\n        {\n          \"theme\": \"Counterpoint: Menu Changes and Value\",\n          \"description\": \"Many reviews express disappointment with changes to the menu, specifically the reduction of menu items and smaller portion sizes. The perception is that the restaurant is prioritizing profit over quality and customer satisfaction.\",\n          \"reviews\": 10\n        },\n        {\n          \"theme\": \"Counterpoint: Pricing\",\n          \"description\": \"The high prices are a common complaint across many reviews. Customers feel that the cost of the food does not justify its quality, portion size, or overall experience.\",\n          \"reviews\": 11\n        }\n      ]\n    }\n  ],\n  \"summary\": \"Claim Jumper Steakhouse & Bar receives mixed reviews. While many praise the large portions, delicious entrees, tasty appetizers, high-quality desserts, and excellent service, significant concerns exist regarding inconsistent food preparation, slow service, inattentive or rude staff, and a decline in food quality since the Landry's acquisition.  High prices and a perceived decrease in value are also common complaints.  A reported issue of unsanitary restroom conditions further detracts from the overall experience.\"\n}\n"
     ]
    }
   ],
   "source": [
    "runnable_restaurants = RunnableLambda(get_positive_negative_reviews_together)\n",
    "\n",
    "parser = JsonOutputParser()\n",
    "\n",
    "chain = prompt_template | model | parser\n",
    "\n",
    "runnable_each = runnable_restaurants | RunnableEach(bound=chain)\n",
    "\n",
    "output = runnable_each.invoke(['mNw3UU6PPUAeS31VKgM-qw'])\n",
    "\n",
    "sum_chain = RunnableLambda(get_dicts) | sum_prompt_template | model | parser\n",
    "\n",
    "final_output = sum_chain.invoke(output)\n",
    "print(json.dumps(final_output, indent=2)) "
   ]
  },
  {
   "cell_type": "markdown",
   "metadata": {
    "application/vnd.databricks.v1+cell": {
     "cellMetadata": {
      "byteLimit": 2048000,
      "rowLimit": 10000
     },
     "inputWidgets": {},
     "nuid": "3381ecfa-784c-4cf2-8e37-7546ae776680",
     "showTitle": false,
     "tableResultSettingsMap": {},
     "title": ""
    }
   },
   "source": [
    "### Formatting the Output\n",
    "Although for people acquainted with tech could probably comprehend the json output as it is, there are a lot of laymen who will assume upon seeing plain text in brackets that something has glitched out on the website or app they are reading and attempt to refresh the page. \n",
    "\n",
    "For our purposes, semi-readable is not enough, and so we will be converting the final output from our chain into Markdown, which turns our json into a nicely formatted report. Our title will be a definitive statement on the consensus followed by an invitation to read more, and then disclosing the amount of reviews the summary is based on, for transparancy that the following statements are a summary and not original thought. Next we list out all of our categories and themes and conclude with an overall general statement on the restaurant marked in importance by a higher-level header than the categories. This should draw the eyes of a reader who chooses to skim through the categories to the end of the summary."
   ]
  },
  {
   "cell_type": "code",
   "execution_count": 0,
   "metadata": {
    "application/vnd.databricks.v1+cell": {
     "cellMetadata": {
      "byteLimit": 2048000,
      "rowLimit": 10000
     },
     "inputWidgets": {},
     "nuid": "ad59b0a6-5deb-4a44-9554-a76261b69674",
     "showTitle": false,
     "tableResultSettingsMap": {},
     "title": ""
    }
   },
   "outputs": [
    {
     "output_type": "display_data",
     "data": {
      "text/markdown": [
       "#Customers are feeling Mixed about Claim Jumper Steakhouse & Bar. Here are the reasons why:\n",
       "## Summary Based on 168 Reviews\n",
       "###Food Quality\n",
       "* **Large Portions:**<br/>Multiple reviews highlight the generous portion sizes served at Claim Jumper. Reviewers consistently mention that the portions are so large that they often have leftovers, sometimes enough for another meal. This is frequently cited as a positive aspect, especially given the generally positive feedback on the taste and quality of the food.\n",
       "* **Delicious Entrees:**<br/>A significant number of reviews praise the taste and quality of the main courses. Specific dishes like the meatloaf, steaks (porterhouse, ribeye), chicken pot pie, salmon, and various sandwiches receive particular acclaim. Reviewers describe the food as \"to die for,\" \"phenomenal,\" and \"delicious,\" indicating a high level of satisfaction with the flavor and preparation of the entrees.\n",
       "* **Tasty Appetizers:**<br/>Several reviews mention the positive experience with appetizers, with specific praise for items such as the lemon zucchini appetizer, pretzel bites, potato skins, and mozzarella sticks. Reviewers describe these appetizers as \"wow,\" \"so good,\" and \"super yummy.\"\n",
       "* **High-Quality Desserts:**<br/>The restaurant's desserts, particularly the chocolate cake, receive significant praise. Reviewers describe the chocolate cake as \"huge,\" \"super yummy,\" and \"fabulous.\"\n",
       "* **Counterpoint: Subpar Food Quality:**<br/>Multiple reviews cite the decline in food quality since the Landry's acquisition. Dishes are described as bland, overcooked, undercooked, or otherwise not meeting expectations for a restaurant of this price point. Specific examples include burnt or overcooked meats (steak, salmon, scallops, lobster), under-seasoned dishes, old or stale ingredients (salad, fries, baked potato), and small portions for the price.\n",
       "* **Counterpoint: Inconsistent Food Preparation:**<br/>A recurring issue highlighted in many reviews is the inconsistency in food preparation. Orders are frequently reported as arriving with incorrect items, incorrect temperatures (cold food, undercooked or overcooked dishes), or with missing components.\n",
       "###Service Quality\n",
       "* **Excellent Service:**<br/>Many reviews emphasize the exceptional service provided by the staff. Reviewers frequently mention the friendliness, attentiveness, and efficiency of the servers.\n",
       "* **Quick Service:**<br/>Several reviews mention the speed and efficiency of service, both for seating and food delivery. Reviewers frequently note that they were seated quickly, especially when the restaurant wasn't busy.\n",
       "* **Counterpoint: Slow Service:**<br/>Numerous reviews mention excessively long wait times for food and drinks, even when the restaurant is not busy. This slow service is reported as impacting both dine-in and takeout orders.\n",
       "* **Counterpoint: Inattentive Or Rude Staff:**<br/>Several reviews mention negative interactions with staff members. Waitstaff is described as inattentive, rude, or unhelpful. Issues range from slow service and forgetting orders to outright disrespectful behavior.\n",
       "###Ambiance\n",
       "* **Pleasant Atmosphere:**<br/>The restaurant's ambiance is described as pleasant in several reviews. Reviewers mention the comfortable seating and the overall atmosphere as contributing to a positive dining experience.\n",
       "###Other Issues\n",
       "* **Counterpoint: Restaurant Condition:**<br/>At least one review highlights concerning issues related to the restaurant's physical condition, specifically a strong smell of mold and sewage emanating from the restrooms.\n",
       "* **Counterpoint: Menu Changes And Value:**<br/>Many reviews express disappointment with changes to the menu, specifically the reduction of menu items and smaller portion sizes. The perception is that the restaurant is prioritizing profit over quality and customer satisfaction.\n",
       "* **Counterpoint: Pricing:**<br/>The high prices are a common complaint across many reviews. Customers feel that the cost of the food does not justify its quality, portion size, or overall experience.\n",
       "##Overall\n",
       "Claim Jumper Steakhouse & Bar receives mixed reviews. While many praise the large portions, delicious entrees, tasty appetizers, high-quality desserts, and excellent service, significant concerns exist regarding inconsistent food preparation, slow service, inattentive or rude staff, and a decline in food quality since the Landry's acquisition.  High prices and a perceived decrease in value are also common complaints.  A reported issue of unsanitary restroom conditions further detracts from the overall experience."
      ],
      "text/plain": [
       "<IPython.core.display.Markdown object>"
      ]
     },
     "metadata": {},
     "output_type": "display_data"
    }
   ],
   "source": [
    "output_list = []\n",
    "line_break = '<br/>'\n",
    "#So we can insert it in our f-strings\n",
    "# We add a level 1 header based on the sentiment.\n",
    "title = f\"#Customers are feeling {final_output['sentiment'].title()} about {final_output['restaurant_name'].title()}. Here are the reasons why:\"\n",
    "output_list.append(title)\n",
    "summary_header = f\"## Summary Based on {final_output['total_reviews']} Reviews\"\n",
    "output_list.append(summary_header)\n",
    "# We loop through each category, adding the category label as a header 2.\n",
    "for category in final_output['categories']:\n",
    "    output_list.append(f\"###{category['category'].title()}\")\n",
    "    # We loop through each theme in the category.\n",
    "    for theme in category['themes']:\n",
    "        output_list.append(f\"* **{theme['theme'].title()}:**{line_break}{theme['description']}\")\n",
    "overall_header = \"##Overall\"\n",
    "output_list.append(overall_header)\n",
    "overall_text = final_output['summary']\n",
    "output_list.append(overall_text)\n",
    "# The output is all now in the output_list and we use the\n",
    "# display and Markdown functions from IPython to display it as markdown.\n",
    "python_display(Markdown('\\n'.join(output_list)))"
   ]
  },
  {
   "cell_type": "markdown",
   "metadata": {
    "application/vnd.databricks.v1+cell": {
     "cellMetadata": {
      "byteLimit": 2048000,
      "rowLimit": 10000
     },
     "inputWidgets": {},
     "nuid": "af29db87-cd91-4c20-8782-e0ecdd1a4be8",
     "showTitle": false,
     "tableResultSettingsMap": {},
     "title": ""
    }
   },
   "source": [
    "#### Running Multiple IDs\n",
    "In order to generate multiple summaries at once, we have created the function `run_multiple_ids(id_list)`. The parameter takes a list of business IDs and runs them through our chain and prints the formatted markdown for each summary, but first checks for whether a business is not a restaurant or has too few reviews for a summary. \n",
    "\n",
    "In order to notify the user of when a new generation has begun, we made sure to start each loop with a message notifying them of the new generation. Then the error checks are made before generating the summary if it passes the checks. If the error checks hit, we made sure to generate markdown explaining why the summary was not generated as normal. This function simplifies the process of running different IDs by standardizing the method of changing them out without messing with the chain, allowing for less error potential. \n",
    "\n",
    "We can finally call the function below to showcase the final product of our work."
   ]
  },
  {
   "cell_type": "code",
   "execution_count": 0,
   "metadata": {
    "application/vnd.databricks.v1+cell": {
     "cellMetadata": {
      "byteLimit": 2048000,
      "rowLimit": 10000
     },
     "inputWidgets": {},
     "nuid": "ae7251d3-4413-439d-9661-effebb78d8bd",
     "showTitle": false,
     "tableResultSettingsMap": {},
     "title": ""
    }
   },
   "outputs": [],
   "source": [
    "def run_multiple_ids(id_list):\n",
    "  for business_id in id_list:\n",
    "    print(f'Generating summary for business_id: {business_id}...')\n",
    "    pos_review_dict, neg_review_dict = get_positive_negative_reviews_together([business_id])\n",
    "    # displays error for invalid business id\n",
    "    if pos_review_dict['sentiment'] == 'not a restaurant' or neg_review_dict['sentiment'] == 'not a restaurant':\n",
    "            output_list = []\n",
    "            line_break = '<br/>'\n",
    "            title = f\"#Error: Invalid Business ID\"\n",
    "            output_list.append(title)\n",
    "            output_list.append(f\"###{business_id} is not a restaurant according to our criteria\")\n",
    "            python_display(Markdown('\\n'.join(output_list)))\n",
    "            continue\n",
    "    # displays error message for insufficient review count\n",
    "    elif(len(pos_review_dict['review_list']) + len(neg_review_dict['review_list']) < 3):\n",
    "            output_list = []\n",
    "            line_break = '<br/>'\n",
    "            title = f\"#Error: Not Enough Reviews to Generate Summary\"\n",
    "            output_list.append(title)\n",
    "            output_list.append(f\"###{business_id} does not have enough user reviews to generate a useful summary. Displaying User Reviews:\")\n",
    "            for review in pos_review_dict['review_list']:\n",
    "              output_list.append(review)\n",
    "            for review in neg_review_dict['review_list']:\n",
    "              output_list.append(review)\n",
    "            python_display(Markdown('\\n'.join(output_list)))\n",
    "            continue\n",
    "    else:\n",
    "\n",
    "    \n",
    "      runnable_restaurants = RunnableLambda(get_positive_negative_reviews_together)\n",
    "\n",
    "      parser = JsonOutputParser()\n",
    "\n",
    "      chain = prompt_template | model | parser\n",
    "\n",
    "      runnable_each = runnable_restaurants | RunnableEach(bound=chain)\n",
    "\n",
    "      output = runnable_each.invoke([business_id])\n",
    "\n",
    "      sum_chain = RunnableLambda(get_dicts) | sum_prompt_template | model | parser\n",
    "\n",
    "      final_output = sum_chain.invoke(output)\n",
    "      json.dumps(final_output, indent=2)\n",
    "      output_list = []\n",
    "      line_break = '<br/>'\n",
    "      #So we can insert it in our f-strings\n",
    "      # We add a level 1 header based on the sentiment.\n",
    "      title = f\"#Customers are feeling {final_output['sentiment'].title()} about {final_output['restaurant_name'].title()}. Here are the reasons why:\"\n",
    "      output_list.append(title)\n",
    "      summary_header = f\"## Summary Based on {final_output['total_reviews']} Reviews\"\n",
    "      output_list.append(summary_header)\n",
    "      # We loop through each category, adding the category label as a header 2.\n",
    "      for category in final_output['categories']:\n",
    "          output_list.append(f\"###{category['category'].title()}\")\n",
    "          # We loop through each theme in the category.\n",
    "          for theme in category['themes']:\n",
    "              output_list.append(f\"* **{theme['theme'].title()}:**{line_break}{theme['description']}\")\n",
    "      overall_header = \"##Overall\"\n",
    "      output_list.append(overall_header)\n",
    "      overall_text = final_output['summary']\n",
    "      output_list.append(overall_text)\n",
    "      # The output is all now in the output_list and we use the\n",
    "      # display and Markdown functions from IPython to display it as markdown.\n",
    "      python_display(Markdown('\\n'.join(output_list)))"
   ]
  },
  {
   "cell_type": "code",
   "execution_count": 0,
   "metadata": {
    "application/vnd.databricks.v1+cell": {
     "cellMetadata": {
      "byteLimit": 2048000,
      "rowLimit": 10000
     },
     "inputWidgets": {},
     "nuid": "39a83533-9502-41b6-8021-a9c34bf57f32",
     "showTitle": false,
     "tableResultSettingsMap": {},
     "title": ""
    }
   },
   "outputs": [
    {
     "output_type": "stream",
     "name": "stdout",
     "output_type": "stream",
     "text": [
      "Generating summary for business_id: 196CWwMAtAcA21jYiMyRzg...\n"
     ]
    },
    {
     "output_type": "display_data",
     "data": {
      "text/markdown": [
       "#Customers are feeling Mixed about Cafe Pontalba. Here are the reasons why:\n",
       "## Summary Based on 51 Reviews\n",
       "###Food Quality\n",
       "* **Delicious Food:**<br/>Multiple reviews consistently praise the deliciousness of the food served at Cafe Pontalba. Specific dishes like the Cajun combo (jambalaya, gumbo, crawfish pie), shrimp and grits, fish po-boy, and crab cakes receive high praise for their taste and quality ingredients. Even seemingly simple dishes, like the omelets and eggs benedict, are described as flavorful and well-prepared. The crawfish pie is mentioned as a particular highlight, noted for its tasty and fresh flavor, free from any fishy aftertaste. The overall consensus is that the food exceeds expectations, even for those who initially had reservations based on prior reviews.\n",
       "* **High-Quality Ingredients:**<br/>Reviewers emphasize the freshness and quality of the ingredients used in Cafe Pontalba's dishes. The crab cakes are described as almost entirely crab meat, flavorful, and not salty – a testament to the restaurant's commitment to using high-quality ingredients. The freshness of the seafood is also highlighted in multiple reviews, contributing to the overall positive perception of the food quality. The detailed descriptions of the dishes suggest a focus on sourcing good ingredients and preparing them skillfully.\n",
       "* **Counterpoint: Bland Food:**<br/>Multiple reviews cite the food as bland and lacking flavor. Dishes such as the Cajun egg benedict, red beans and rice, and seafood platter were specifically mentioned as being disappointingly flavorless. The overall consensus is that the food lacks the seasoning and depth of flavor expected, especially considering the restaurant's location in New Orleans, known for its rich culinary tradition.\n",
       "* **Counterpoint: Poorly Cooked Dishes:**<br/>Several reviews highlighted issues with the cooking of specific dishes. Overcooked eggs (poached and otherwise), undercooked potatoes, and cold, old-tasting fries were frequently mentioned. The inconsistent cooking suggests a lack of attention to detail and potentially inadequate training in the kitchen.\n",
       "* **Counterpoint: Inaccurate Dish Descriptions/Preparation:**<br/>A recurring complaint centers on the mismatch between menu descriptions and the actual dishes served. Catfish advertised as sautéed was often fried, and the pecan sauce was frequently described as bitter. The jambalaya was criticized for being essentially Zatarain's dirty rice with a few shrimp. This inconsistency erodes customer trust and suggests a lack of care in adhering to menu descriptions and standards in food preparation.\n",
       "* **Counterpoint: Use Of Low-Quality Ingredients:**<br/>Reviewers noted the use of low-quality ingredients, such as frozen shrimp and instant-tasting mashed potatoes. The implication is that the restaurant prioritizes cost-cutting measures over using fresh, high-quality ingredients, which directly impacts the taste and overall dining experience.\n",
       "###Service And Atmosphere\n",
       "* **Excellent Service:**<br/>The service at Cafe Pontalba receives overwhelmingly positive feedback. Reviewers consistently mention the staff's friendliness, efficiency, and attentiveness. Even during busy lunch rushes, the servers are described as working nonstop and providing prompt, courteous service. The ability to accommodate large parties is also noted, highlighting the staff's adaptability and willingness to go the extra mile. The overall impression is one of a well-trained and dedicated staff committed to providing a positive dining experience.\n",
       "* **Great Location And Ambiance:**<br/>Cafe Pontalba's prime location in Jackson Square is a major draw for many patrons. The open-air seating offers stunning views of the square and provides ample opportunities for people-watching. The restaurant's interior is also praised for its beautiful decor, featuring vintage French Quarter charm and dark hardwood interiors. The combination of a fantastic location, pleasant ambiance, and the lively atmosphere adds to the overall appeal of the restaurant. The open doors and windows are also mentioned as contributing to a breezy and pleasant dining experience, especially in warmer weather.\n",
       "* **Cleanliness:**<br/>The cleanliness of the restaurant is mentioned positively in several reviews. The bathrooms are specifically highlighted for their fresh scent and overall cleanliness, which is often seen as an indicator of the restaurant's overall hygiene standards. This aspect, while seemingly minor, adds to the overall positive impression of the dining experience, suggesting a well-maintained and cared-for establishment.\n",
       "* **Counterpoint: Poor/Inattentive Service:**<br/>Multiple reviews describe the service as poor, inattentive, or unfriendly. Waiters were reported as having attitudes, being unhelpful, and neglecting basic customer needs such as refilling water glasses. The slow service and lack of attentiveness contributed negatively to the overall dining experience.\n",
       "* **Counterpoint: Restaurant Atmosphere:**<br/>Several reviews mentioned negative aspects of the restaurant's atmosphere. These included a high number of flies inside, cramped and unpleasant bathrooms, and lack of central air conditioning, relying only on fans and open doors. These issues detract from the overall dining experience and suggest a lack of attention to maintaining a pleasant and comfortable environment for patrons.\n",
       "###Covid Safety\n",
       "* **Covid-Safe Practices:**<br/>One review specifically praises Cafe Pontalba for its Covid-19 safety measures, highlighting it as the best experience in the French Quarter. The review mentions mask-wearing by staff, friendly and knowledgeable service, and the collection of contact information for contact tracing purposes. Although only one review explicitly addresses this, it suggests a commitment to patron safety during a challenging time.\n",
       "##Overall\n",
       "Cafe Pontalba receives mixed reviews. While many praise the delicious food, high-quality ingredients, excellent service, and great location, some criticize the blandness of certain dishes, inconsistencies in cooking, inaccurate menu descriptions, use of low-quality ingredients, poor and inattentive service, and negative aspects of the restaurant's atmosphere.  The overall experience appears inconsistent, with both highly positive and highly negative experiences reported."
      ],
      "text/plain": [
       "<IPython.core.display.Markdown object>"
      ]
     },
     "metadata": {},
     "output_type": "display_data"
    },
    {
     "output_type": "stream",
     "name": "stdout",
     "output_type": "stream",
     "text": [
      "Generating summary for business_id: DVBJRvnCpkqaYl6nHroaMg...\n"
     ]
    },
    {
     "output_type": "display_data",
     "data": {
      "text/markdown": [
       "#Customers are feeling Positive about Tumerico. Here are the reasons why:\n",
       "## Summary Based on 282 Reviews\n",
       "###Food Quality And Taste\n",
       "* **Flavorful And Unique Dishes:**<br/>Many reviewers repeatedly emphasized the exceptional and unique flavors of Tumerico's dishes.  The creative use of spices and ingredients resulted in a culinary experience unlike any other Mexican restaurant, vegan or otherwise.  Reviewers were particularly impressed by the innovative ways in which traditional Mexican dishes were reimagined using plant-based ingredients, highlighting the restaurant's ability to deliver bold, complex flavors without relying on meat. The skillful use of jackfruit as a meat substitute was frequently praised, with many describing its texture and taste as remarkably similar to pulled pork or chicken. This mastery of flavor extended to the accompanying sides, such as the rice, beans, and salads, which were often described as equally delicious and well-seasoned. The overall consensus is that Tumerico offers a truly unique and unforgettable dining experience.\n",
       "* **High-Quality Ingredients:**<br/>The use of fresh, high-quality, and often locally-sourced ingredients was another recurring theme in the positive reviews. Reviewers frequently commented on the freshness and quality of the produce, noting that the taste of the food reflected this commitment to superior ingredients. This attention to detail extended beyond the main dishes to the sauces, salsas, and other accompaniments, all of which were praised for their freshness and flavor.  The overall impression is that Tumerico prioritizes quality ingredients, resulting in a superior culinary experience that is both delicious and satisfying.\n",
       "* **Generous Portions:**<br/>A common thread running through the positive reviews is the generous portion sizes offered at Tumerico.  Many reviewers noted that the amount of food they received was more than enough for one person, often resulting in leftovers for another meal. This value for money was appreciated by many, especially given the high quality of the food. The abundance of food was described as both satisfying and filling, ensuring that customers left feeling full and content. The generous portions contributed to the overall positive dining experience, making Tumerico a place where customers felt they received excellent value for their money.\n",
       "* **Counterpoint: Lack Of Flavor:**<br/>Multiple reviews mentioned a lack of flavor in various dishes. The Al Pastor tacos and Poblano tostados were described as lacking in flavor, even though the ingredients were present. The vegan Pozole was particularly criticized for having a strange and unappealing taste, failing to satisfy a customer's craving for the dish. Even the generally positive reviews noted that the food, while good, could be improved by enhancing the flavors of dishes like the beans and complimentary soup.\n",
       "* **Counterpoint: Missing Ingredients/Inconsistent Portions:**<br/>Several reviews highlighted inconsistencies in food preparation. One review reported that their Al Pastor tacos were missing components, containing only jackfruit and pico. Another review noted that the rice and bean portion sizes were underwhelming, particularly considering the price point of the dishes.\n",
       "###Service And Atmosphere\n",
       "* **Friendly And Welcoming Staff:**<br/>The overwhelmingly positive reviews highlight the exceptional service provided by Tumerico's staff.  Reviewers consistently praised the friendliness, helpfulness, and attentiveness of the employees. Many described the staff as welcoming and accommodating, going above and beyond to ensure a positive dining experience.  The staff's knowledge of the menu and their willingness to offer recommendations were also frequently mentioned. This positive interaction with the staff contributed significantly to the overall positive impression of the restaurant, making customers feel valued and appreciated.\n",
       "* **Pleasant And Casual Ambiance:**<br/>The restaurant's ambiance was also a source of positive feedback. Reviewers described the atmosphere as casual, relaxed, and welcoming, creating a comfortable and enjoyable dining experience. The decor was often praised for its unique and inviting character, enhancing the overall atmosphere. Many reviewers felt that Tumerico provided a perfect setting for a casual meal with friends or family, highlighting the restaurant's ability to create a pleasant and welcoming environment for all types of diners. The casual yet inviting atmosphere complemented the high-quality food and friendly service, contributing to the overall positive experience.\n",
       "* **Counterpoint: Take-Out Issues:**<br/>Negative experiences with take-out orders were reported. One review described a situation where their order was lost, although it was remade quickly. This points to potential organizational issues within the restaurant's take-out system.\n",
       "###Menu And Options\n",
       "* **Creative Menu And Daily Specials:**<br/>The restaurant's menu was a frequent source of praise, with many reviewers highlighting the creativity and variety of dishes on offer. The daily changing menu, based on fresh, seasonal ingredients, was seen as a positive aspect, ensuring that customers could always try something new and exciting. The menu's focus on vegan and vegetarian options was also appreciated, with many reviewers praising the restaurant's ability to create delicious and innovative plant-based dishes. The combination of creativity, variety, and fresh ingredients made the menu a significant contributor to Tumerico's overall positive reputation.\n",
       "* **Vegan/Vegetarian Options:**<br/>A significant number of reviewers explicitly praised Tumerico's commitment to vegan and vegetarian cuisine.  Many were surprised and delighted by the quality and flavor of the plant-based dishes, often stating that they would happily return even if they weren't vegetarian or vegan. This positive feedback underscores the restaurant's success in appealing to a broad audience, including those who are not typically drawn to vegan or vegetarian restaurants. The high quality of the vegan/vegetarian options broadened Tumerico's appeal and contributed to its popularity.\n",
       "###Pricing And Value\n",
       "* **Counterpoint: High Prices:**<br/>The high cost of the food was a recurring concern. One review expressed shock at the $80 price tag for four plates of vegan food. Another long-time patron stated their love for the restaurant but inability to afford the high prices. This suggests that the restaurant's pricing may not align with the perceived value of the food, especially given the portion-related issues mentioned in other reviews.\n",
       "##Overall\n",
       "Tumerico receives overwhelmingly positive feedback, praised for its unique and flavorful vegan Mexican dishes, high-quality ingredients, generous portions, friendly staff, and pleasant ambiance. While some concerns exist regarding pricing and occasional inconsistencies in food preparation and take-out service, the overall consensus points to a highly enjoyable dining experience."
      ],
      "text/plain": [
       "<IPython.core.display.Markdown object>"
      ]
     },
     "metadata": {},
     "output_type": "display_data"
    },
    {
     "output_type": "stream",
     "name": "stdout",
     "output_type": "stream",
     "text": [
      "Generating summary for business_id: WC8vQdCC-nSawCh2IV4epg...\n"
     ]
    },
    {
     "output_type": "display_data",
     "data": {
      "text/markdown": [
       "#Customers are feeling Positive about Atlantis Steakhouse. Here are the reasons why:\n",
       "## Summary Based on 194 Reviews\n",
       "###Food Quality\n",
       "* **Steak Quality And Preparation:**<br/>Multiple reviews consistently praise the quality and preparation of the steaks. Reviewers frequently use terms like \"cooked to perfection,\" \"melted in my mouth,\" and \"perfectly seasoned\" to describe their steak experiences.\n",
       "* **Seafood Quality And Preparation:**<br/>Beyond the steaks, the restaurant's seafood offerings also receive significant praise. Reviewers highlight the freshness and quality of the seafood, noting that dishes like lobster tails, scallops, and Chilean sea bass were \"cooked to perfection\" and \"delicious.\"\n",
       "* **Appetizers And Sides:**<br/>The appetizers and side dishes are not merely an afterthought; they are integral parts of the overall dining experience, frequently mentioned in positive reviews.\n",
       "* **Desserts:**<br/>The desserts offered at Atlantis Steakhouse consistently receive rave reviews, often described as a memorable part of the dining experience.\n",
       "* **Counterpoint: Poor Quality Prime Rib:**<br/>Multiple reviews cite the prime rib as being subpar. Descriptions include terms like 'tough', 'chewy', 'tasteless', and 'dry'.\n",
       "* **Counterpoint: Overcooked Or Undercooked Steaks:**<br/>Several reviewers reported inconsistencies in the cooking of their steaks. Some steaks arrived overcooked, described as dry and tough, despite being ordered to a specific doneness. Others were undercooked, arriving 'bloody' even when ordered medium-well.\n",
       "* **Counterpoint: Poor Quality Sides:**<br/>Beyond the main courses, multiple reviews also criticized the quality of the side dishes. The twice-baked potato contained a hard object, causing dental damage to one diner. The mac and cheese was described as runny and tasteless, while the creamed spinach was bland.\n",
       "* **Counterpoint: High Prices For Average Food:**<br/>Several reviewers felt that the food quality did not justify the high prices charged. The consensus is that the food was merely 'good,' not 'great,' or even 'average' in some cases, making the high cost a significant point of contention for numerous diners.\n",
       "###Service Quality\n",
       "* **Attentive And Friendly Service:**<br/>The attentiveness and friendliness of the staff are repeatedly mentioned as key contributors to the positive dining experience. Reviewers frequently praise the servers' ability to anticipate needs, refill drinks promptly, and provide helpful recommendations.\n",
       "* **Table-Side Service:**<br/>The inclusion of table-side service for certain dishes, such as Steak Diane and shrimp scampi, is a frequently cited positive aspect of the dining experience. Reviewers describe these presentations as entertaining and enhancing the overall atmosphere.\n",
       "* **Extra Touches:**<br/>Numerous reviews mention small, thoughtful gestures by the staff that contribute to the overall positive experience. These include providing warm towels before and after the meal, rose petals on the tables, personalized seating cards, and taking the initiative to refill drinks and clear plates without being asked.\n",
       "* **Counterpoint: Inattentive Or Poor Service:**<br/>A significant number of reviews highlighted problems with the service. Issues ranged from servers being inattentive and slow to respond to requests, to a lack of understanding of basic dietary restrictions (gluten-free).\n",
       "* **Counterpoint: Excessive Wait Times:**<br/>Multiple reviews mentioned unusually long wait times for food, with some tables waiting up to two hours for their entrees. This extended wait time, compounded by the arrival of food that was cold in several instances, created a severely negative dining experience.\n",
       "* **Counterpoint: Poor Handling Of Complaints:**<br/>Several instances of poor complaint handling were reported. In one case, a manager refused to remove a damaged side dish from the bill, instead insisting on an incident report. In another, a promised credit was never applied to a bill, despite repeated attempts to contact management.\n",
       "###Ambiance And Atmosphere\n",
       "* **Elegant And Luxurious Atmosphere:**<br/>The restaurant's elegant and luxurious atmosphere is repeatedly mentioned as a significant positive aspect of the dining experience. Reviewers describe the decor as beautiful, sophisticated, and romantic, often mentioning specific details such as the lighting, seating, and overall ambiance.\n",
       "* **Counterpoint: Unpleasant Seating Arrangements:**<br/>One review described being seated in a banquet room with poor lighting and no music, despite the main dining area being nearly empty. Another mentioned being seated too close to other tables, negating the intended social distancing measures.\n",
       "##Overall\n",
       "Atlantis Steakhouse receives overwhelmingly positive reviews, with consistent praise for the quality of its steaks and seafood, attentive service, and elegant atmosphere. While some negative feedback exists regarding inconsistencies in steak preparation, service issues, and occasional seating problems, the positive aspects significantly outweigh the negative, resulting in an overall positive customer experience."
      ],
      "text/plain": [
       "<IPython.core.display.Markdown object>"
      ]
     },
     "metadata": {},
     "output_type": "display_data"
    },
    {
     "output_type": "stream",
     "name": "stdout",
     "output_type": "stream",
     "text": [
      "Generating summary for business_id: foh6hwQxjCs0SeLT5MO1SQ...\nBusiness ID 'foh6hwQxjCs0SeLT5MO1SQ' not found in the Restaurants Table. Business ID must be in the restaurants table to qualify.\n"
     ]
    },
    {
     "output_type": "display_data",
     "data": {
      "text/markdown": [
       "#Error: Invalid Business ID\n",
       "###foh6hwQxjCs0SeLT5MO1SQ is not a restaurant according to our criteria"
      ],
      "text/plain": [
       "<IPython.core.display.Markdown object>"
      ]
     },
     "metadata": {},
     "output_type": "display_data"
    },
    {
     "output_type": "stream",
     "name": "stdout",
     "output_type": "stream",
     "text": [
      "Generating summary for business_id: VnpokM7AD0zYXfyDNEDe6g...\n"
     ]
    },
    {
     "output_type": "display_data",
     "data": {
      "text/markdown": [
       "#Customers are feeling Mixed about Marlton Diner. Here are the reasons why:\n",
       "## Summary Based on 49 Reviews\n",
       "###Food Quality\n",
       "* **Delicious Food:**<br/>Multiple reviewers highlighted the deliciousness of the food served at the Marlton Diner. Specific dishes mentioned include the huevos rancheros, which one reviewer described as 'delicious', and the omelets, which were praised for staying hot throughout the meal. The pancakes and challah French toast were also enjoyed by members of one family's party. Even the coffee received positive comments for its strength and flavor, exceeding expectations set by previous reviews.\n",
       "* **Large Portions:**<br/>At least one reviewer noted the substantial size of the portions, specifically mentioning a 'huge omelet' that remained steaming even after significant consumption. This suggests that the restaurant provides generous servings of food, exceeding expectations of typical portion sizes.\n",
       "* **Counterpoint: Food Quality And Taste:**<br/>Multiple reviews cite issues with the quality and taste of the food. Dishes were described as cold, old, stale, burnt, flavorless, and in one case, even containing someone else's leftovers. The ingredients were often missing or not as described. Even simple items like pancakes and home fries were deemed inedible. This consistent negative feedback across various menu items points to a significant problem with food preparation and ingredient freshness.\n",
       "* **Counterpoint: Food Temperature:**<br/>A recurring complaint centers around the temperature of the food served. Many reviewers noted that their meals arrived cold, regardless of the item ordered. This suggests a potential problem with food holding or timing issues in the kitchen.\n",
       "###Service\n",
       "* **Fast Service:**<br/>One reviewer explicitly mentioned that their food was delivered 'very fast'. This indicates efficient and prompt service, contributing to a positive dining experience.\n",
       "* **Friendly Staff:**<br/>The friendliness of the staff was a recurring positive point. One reviewer, despite initial reservations about the restaurant's appearance, noted that the staff were 'super friendly', significantly improving their overall experience. Another reviewer also mentions 'great service', specifically describing it as 'exceptional'.\n",
       "* **Counterpoint: Slow Service And Inattentiveness:**<br/>Many reviewers complained about slow service, long wait times for food, and inattentive waitstaff. Some reported difficulty getting drink refills, while others noted that the staff did not check on their tables or address their concerns. The understaffing, while acknowledged by the restaurant, seems to be a significant contributor to these service problems.\n",
       "* **Counterpoint: Staff Attitude And Friendliness:**<br/>Several reviews mention negative interactions with the staff, describing them as rude, unfriendly, and annoyed. This lack of hospitality further contributes to the negative dining experience reported by numerous customers.\n",
       "###Ambiance\n",
       "* **Outdoor Seating:**<br/>One reviewer found the outdoor seating arrangement, while initially seeming unusual, to be a positive aspect of the restaurant. This suggests that the outdoor seating area is well-maintained and contributes to a pleasant dining atmosphere.\n",
       "###Cleanliness\n",
       "* **Counterpoint: Restaurant Cleanliness:**<br/>Numerous reviews highlight the unsanitary conditions of the restaurant. Descriptions include sticky booths, dirty floors, grease smears on walls and windowsills, dead bugs and cobwebs, and generally unkempt surroundings. The bathrooms were specifically called out as filthy. The overall impression is one of significant neglect in maintaining a clean and hygienic environment for diners.\n",
       "##Overall\n",
       "The Marlton Diner receives mixed reviews. While some customers praise the delicious food, large portions, fast service, friendly staff, and outdoor seating, many others express concerns about food quality and temperature, slow and inattentive service, and the uncleanliness of the restaurant.  A more thorough investigation into kitchen practices and restaurant maintenance is needed to address the negative feedback."
      ],
      "text/plain": [
       "<IPython.core.display.Markdown object>"
      ]
     },
     "metadata": {},
     "output_type": "display_data"
    }
   ],
   "source": [
    "run_multiple_ids(['196CWwMAtAcA21jYiMyRzg', 'DVBJRvnCpkqaYl6nHroaMg', 'WC8vQdCC-nSawCh2IV4epg', 'foh6hwQxjCs0SeLT5MO1SQ', 'VnpokM7AD0zYXfyDNEDe6g'])"
   ]
  },
  {
   "cell_type": "markdown",
   "metadata": {
    "application/vnd.databricks.v1+cell": {
     "cellMetadata": {
      "byteLimit": 2048000,
      "rowLimit": 10000
     },
     "inputWidgets": {},
     "nuid": "cbaece80-6e78-4a39-a6e5-5f91ffa0d8d5",
     "showTitle": false,
     "tableResultSettingsMap": {},
     "title": ""
    }
   },
   "source": [
    "# Limitations\n",
    "\n",
    "While our approach to structuring and summarizing Yelp data is thorough, there are notable limitations that should be acknowledged within the notebook process:\n",
    "\n",
    "**Potential Biases from Dataset Limitations:**\n",
    "The dataset is skewed towards star ratings 3 and above, which is, although consistent with the idea that most users leave reviews for either highly positive or negative experiences, poses potential problems. This imbalance may limit the comprehensiveness of sentiment analysis, as moderate reviews might not be adequately represented or may be oversimplified.\n",
    "\n",
    "**Databricks Memory Constraints:**\n",
    "The memory limitations in Databricks posed challenges when handling the full volume of Yelp’s raw data. To stay within system constraints, processing had to be optimized, and some data tables were truncated. Additionally, visualizations were often disabled or not working due to Databricks' safeguards on overloading cluster's memory. These memory limitations could omit valuable information.\n",
    "\n",
    "**Limited to Top-Level Categories:**\n",
    "The analysis focuses on high-level restaurant categories, which may overlook smaller subcategories or less common types of establishments. This could lead to less specific insights for users who rather look for unique or specialized dining experiences.\n",
    "\n",
    "**Geographical Scope:** \n",
    "The project analyzes data from only 11 metro areas. Smaller markets or regional trends are not represented, and the dataset's geographic focus of these specific metro areas might skew findings towards only urban dining experiences.\n",
    "\n",
    "**Limitations of Gemini and LangChain in Tandem:** \n",
    "While themes are extracted using LangChain, the AI may overlook subtle but potentially meaningful patterns due to inherent limitations in the categorization process. Gemini also may account for potential system biases and omitting of certain aspects of reviews due to the nature of the model. Lastly, the token limit ensures concise summaries but may result in truncation of detail in cases with high complexity in the reviews."
   ]
  },
  {
   "cell_type": "markdown",
   "metadata": {
    "application/vnd.databricks.v1+cell": {
     "cellMetadata": {
      "byteLimit": 2048000,
      "rowLimit": 10000
     },
     "inputWidgets": {},
     "nuid": "0875d1de-c060-4411-ae70-49f376195e44",
     "showTitle": false,
     "tableResultSettingsMap": {},
     "title": ""
    }
   },
   "source": []
  },
  {
   "cell_type": "markdown",
   "metadata": {
    "application/vnd.databricks.v1+cell": {
     "cellMetadata": {
      "byteLimit": 2048000,
      "rowLimit": 10000
     },
     "inputWidgets": {},
     "nuid": "95d6c867-ed61-446a-9d8c-6bb188ef6150",
     "showTitle": false,
     "tableResultSettingsMap": {},
     "title": ""
    }
   },
   "source": []
  }
 ],
 "metadata": {
  "application/vnd.databricks.v1+notebook": {
   "dashboards": [
    {
     "elements": [],
     "globalVars": {},
     "guid": "",
     "layoutOption": {
      "grid": true,
      "stack": true
     },
     "nuid": "adc3c622-a83d-4962-ae6a-991325fbe4e2",
     "origId": 3718544768076629,
     "title": "Untitled",
     "version": "DashboardViewV1",
     "width": 1024
    }
   ],
   "environmentMetadata": null,
   "language": "python",
   "notebookMetadata": {
    "pythonIndentUnit": 4
   },
   "notebookName": "Final Summarization Notebook",
   "widgets": {}
  }
 },
 "nbformat": 4,
 "nbformat_minor": 0
}
